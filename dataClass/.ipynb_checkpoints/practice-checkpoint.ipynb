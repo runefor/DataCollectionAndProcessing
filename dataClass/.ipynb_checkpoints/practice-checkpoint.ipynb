{
 "cells": [
  {
   "cell_type": "markdown",
   "id": "ed9f5ef6-83e2-4fca-9e22-66e2ec05306b",
   "metadata": {},
   "source": [
    "# 단축기 알기!"
   ]
  },
  {
   "cell_type": "markdown",
   "id": "b85035cb-c698-4eb6-ad84-ea72588694ac",
   "metadata": {},
   "source": [
    "Shift + m 위 아래 셀을 합칠 수 있음\n",
    "\n",
    "공백을 기준으로 control + shift + '-'"
   ]
  }
 ],
 "metadata": {
  "kernelspec": {
   "display_name": "Python 3 (ipykernel)",
   "language": "python",
   "name": "python3"
  },
  "language_info": {
   "codemirror_mode": {
    "name": "ipython",
    "version": 3
   },
   "file_extension": ".py",
   "mimetype": "text/x-python",
   "name": "python",
   "nbconvert_exporter": "python",
   "pygments_lexer": "ipython3",
   "version": "3.9.15"
  }
 },
 "nbformat": 4,
 "nbformat_minor": 5
}
