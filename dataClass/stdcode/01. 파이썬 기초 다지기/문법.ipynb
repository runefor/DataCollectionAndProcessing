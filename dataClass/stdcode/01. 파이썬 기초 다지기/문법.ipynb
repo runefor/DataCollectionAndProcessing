{
 "cells": [
  {
   "cell_type": "code",
   "execution_count": 10,
   "id": "d9e64753-84e6-42fb-bf91-e1255838c723",
   "metadata": {},
   "outputs": [],
   "source": [
    "tarketModel = \"UN52_001\"\n",
    "preFix = \"LEDTV_\"\n",
    "\n",
    "delimeter = \"_\"\n",
    "outCode = \"999999\"\n",
    "recallSerial = \"001\"\n",
    "\n",
    "\n"
   ]
  },
  {
   "cell_type": "code",
   "execution_count": 11,
   "id": "73bbd935-5081-4ca3-b7a4-ebac83b15926",
   "metadata": {},
   "outputs": [
    {
     "data": {
      "text/plain": [
       "'999999'"
      ]
     },
     "execution_count": 11,
     "metadata": {},
     "output_type": "execute_result"
    }
   ],
   "source": [
    "if tarketModel.split(delimeter)[1] == recallSerial:\n",
    "    tarketModel = outCode\n",
    "elif tarketModel.count(preFix) == 0:\n",
    "    tarketModel = preFix + tarketModel\n",
    "else:\n",
    "    pass\n",
    "\n",
    "tarketModel"
   ]
  },
  {
   "cell_type": "code",
   "execution_count": 12,
   "id": "9c9dbb7c-0e00-4f60-b447-57dee749f972",
   "metadata": {},
   "outputs": [
    {
     "data": {
      "text/plain": [
       "'999999'"
      ]
     },
     "execution_count": 12,
     "metadata": {},
     "output_type": "execute_result"
    }
   ],
   "source": [
    "if tarketModel.count(preFix) == 0:\n",
    "    tarketModel = outCode\n",
    "elif tarketModel.split(delimeter)[1] == recallSerial:\n",
    "    tarketModel = preFix + tarketModel\n",
    "else:\n",
    "    pass\n",
    "\n",
    "tarketModel"
   ]
  },
  {
   "cell_type": "code",
   "execution_count": 19,
   "id": "3ab3e119-7b52-4ad7-8c23-7c567d10068e",
   "metadata": {},
   "outputs": [],
   "source": [
    "tvList = [ \"LEDTV_LEDTV_UN40EN001\", \"UN40EN002\", \n",
    "             \"LEDTV_UN40EN003\", \"UN40EN004\"]"
   ]
  },
  {
   "cell_type": "code",
   "execution_count": 17,
   "id": "0e9b82c8-a71e-4417-931f-42a33e08f321",
   "metadata": {},
   "outputs": [
    {
     "name": "stdout",
     "output_type": "stream",
     "text": [
      "['UN40EN001', 'UN40EN002', 'UN40EN003', 'UN40EN004']\n"
     ]
    }
   ],
   "source": [
    "preFix = \"LEDTV_\"\n",
    "\n",
    "\n",
    "for i, tv in enumerate(tvList):\n",
    "    if preFix in tv:\n",
    "        tvList[i] = tv.strip(preFix)\n",
    "print(tvList)"
   ]
  },
  {
   "cell_type": "code",
   "execution_count": 18,
   "id": "02f4d08c-55f3-4a41-ab4a-fc3780d0a28f",
   "metadata": {},
   "outputs": [
    {
     "name": "stdout",
     "output_type": "stream",
     "text": [
      "['LEDTV_UN40EN001', 'LEDTV_UN40EN002', 'LEDTV_UN40EN003', 'LEDTV_UN40EN004']\n"
     ]
    }
   ],
   "source": [
    "for i in range(len(tvList)):\n",
    "    tvList[i] = preFix + tvList[i]\n",
    "print(tvList)"
   ]
  },
  {
   "cell_type": "code",
   "execution_count": 20,
   "id": "c1054797-f759-4f07-b9b6-00cfa2095593",
   "metadata": {},
   "outputs": [
    {
     "name": "stdout",
     "output_type": "stream",
     "text": [
      "['LEDTV_UN40EN001', 'LEDTV_UN40EN002', 'LEDTV_UN40EN003', 'LEDTV_UN40EN004']\n"
     ]
    }
   ],
   "source": [
    "# 내 정답\n",
    "tvList = [ \"LEDTV_LEDTV_UN40EN001\", \"UN40EN002\", \n",
    "             \"LEDTV_UN40EN003\", \"UN40EN004\"]\n",
    "preFix = \"LEDTV_\"\n",
    "for i in range(len(tvList)):\n",
    "    if tvList[i].count(preFix) >= 2:\n",
    "        for i, tv in enumerate(tvList):\n",
    "            if preFix in tv:\n",
    "                tvList[i] = tv.strip(preFix)\n",
    "    elif tvList[i].count(preFix) == 0:\n",
    "        for i in range(len(tvList)):\n",
    "            tvList[i] = preFix + tvList[i]\n",
    "            \n",
    "print(tvList)"
   ]
  },
  {
   "cell_type": "code",
   "execution_count": 15,
   "id": "748ba0ab-b9f5-4484-a7cf-32d9e18afe27",
   "metadata": {},
   "outputs": [
    {
     "name": "stdout",
     "output_type": "stream",
     "text": [
      ">> modify: abc-123\n",
      ">> modify: abc-456\n",
      "['-123', 'def-456', 'ghi-789', '-456']\n"
     ]
    }
   ],
   "source": [
    "word_list = ['abc-123', 'def-456', 'ghi-789', 'abc-456']\n",
    "\n",
    "search = 'abc'\n",
    "for i, word in enumerate(word_list):\n",
    "    if search in word: \n",
    "        print('>> modify: ' + word)\n",
    "        word_list[i] = word.strip(search)\n",
    "\n",
    "print(word_list)"
   ]
  },
  {
   "cell_type": "code",
   "execution_count": 22,
   "id": "cc57bf1d-cb09-4fca-a695-a1a1e56cfd41",
   "metadata": {},
   "outputs": [
    {
     "data": {
      "text/plain": [
       "['LEDTV_UN40EN001', 'LEDTV_UN40EN002', 'LEDTV_UN40EN003', 'LEDTV_UN40EN004']"
      ]
     },
     "execution_count": 22,
     "metadata": {},
     "output_type": "execute_result"
    }
   ],
   "source": [
    "# 재형이 정답\n",
    "\n",
    "def func3() -> list:\n",
    "    preFix = \"LEDTV_\"\n",
    "\n",
    "    tvList = [\"LEDTV_LEDTV_UN40EN001\", \"UN40EN002\", \"LEDTV_UN40EN003\", \"UN40EN004\"]\n",
    "    return [(preFix + val.replace(preFix, \"\", val.count(preFix))) for val in tvList]\n",
    "\n",
    "func3()"
   ]
  },
  {
   "cell_type": "code",
   "execution_count": 26,
   "id": "aaf12864-f86a-4665-8536-a7ef65053e7f",
   "metadata": {},
   "outputs": [
    {
     "name": "stdout",
     "output_type": "stream",
     "text": [
      "['UN40EN001', 'UN40EN002', 'LEDTV_UN40EN003', 'UN40EN004']\n"
     ]
    }
   ],
   "source": [
    "tvList = [ \"LEDTV_LEDTV_UN40EN001\", \"UN40EN002\", \n",
    "             \"LEDTV_UN40EN003\", \"UN40EN004\"]\n",
    "preFix = \"LEDTV_\"\n",
    "\n",
    "tvLList = []\n",
    "\n",
    "for i in range(len(tvList)):\n",
    "    if tvList[i].count(preFix) >= 2:\n",
    "        tvLList.append(tvList[i].replace(preFix, \"\"))\n",
    "    else:\n",
    "        tvLList.append(tvList[i])\n",
    "        \n",
    "print(tvLList)"
   ]
  },
  {
   "cell_type": "code",
   "execution_count": null,
   "id": "f4adeaf4-ba98-4792-8e1a-107d6199737e",
   "metadata": {},
   "outputs": [],
   "source": [
    "# 교수님 정답\n",
    "\n",
    "tvList = [\"LEDTV_LEDTV_UN40EN001\", \n",
    "          \"UN40EN002\", \n",
    "          \"LEDTV_UN40EN003\", \n",
    "          \"UN40EN004\"]\n",
    "\n",
    "preFix = \"LEDTV_\"\n",
    "\n",
    "for i in range(0, len(tvList)):\n",
    "\n",
    "    ### STEP1. PREFIX가 없으면 붙여라\n",
    "    if tvList[i].count(preFix) == 0:\n",
    "        tvList[i] = preFix + tvList[i]\n",
    "    ### STEP2. PREFIX가 1개 있으면 PASS\n",
    "    elif tvList[i].count(preFix) == 1:\n",
    "        pass\n",
    "    ### STEP3. PREFIX가 2개 이상인경우 지우고 붙인다.\n",
    "    elif tvList[i].count(preFix) >= 2:\n",
    "        tvList[i] = preFix + tvList[i].replace(preFix,\"\")\n",
    "    else:\n",
    "        pass"
   ]
  },
  {
   "cell_type": "code",
   "execution_count": 27,
   "id": "7803ca01-94fd-4c6d-a77e-57063bdaece9",
   "metadata": {},
   "outputs": [],
   "source": [
    "indata = 10.555232"
   ]
  },
  {
   "cell_type": "code",
   "execution_count": 29,
   "id": "c684d568-73e4-4813-9c1f-b3d8023e4bc2",
   "metadata": {},
   "outputs": [
    {
     "data": {
      "text/plain": [
       "10.55"
      ]
     },
     "execution_count": 29,
     "metadata": {},
     "output_type": "execute_result"
    }
   ],
   "source": [
    "int(indata * 100) / 100"
   ]
  },
  {
   "cell_type": "code",
   "execution_count": 30,
   "id": "3f321f75-ec0c-4a13-a076-7bdaec76b777",
   "metadata": {},
   "outputs": [],
   "source": [
    "def round_fun(indata):\n",
    "    return int(indata * 100) / 100"
   ]
  },
  {
   "cell_type": "code",
   "execution_count": 31,
   "id": "785e699b-c39a-4e8b-9333-aeb1f4f66989",
   "metadata": {},
   "outputs": [
    {
     "data": {
      "text/plain": [
       "10.55"
      ]
     },
     "execution_count": 31,
     "metadata": {},
     "output_type": "execute_result"
    }
   ],
   "source": [
    "round_fun(10.555232)"
   ]
  },
  {
   "cell_type": "code",
   "execution_count": 34,
   "id": "14feef22-ead3-4404-97c5-fb2fc31f2bd1",
   "metadata": {},
   "outputs": [
    {
     "data": {
      "text/plain": [
       "10.56"
      ]
     },
     "execution_count": 34,
     "metadata": {},
     "output_type": "execute_result"
    }
   ],
   "source": [
    "indata = 10.555232\n",
    "\n",
    "indata * 100\n",
    "indata + 0.5\n",
    "int(indata * 100 + 0.5) /100"
   ]
  },
  {
   "cell_type": "code",
   "execution_count": 37,
   "id": "bf7eea9c-537c-4a7b-9d2f-6e980733c8c1",
   "metadata": {},
   "outputs": [],
   "source": [
    "def round_up_fun(indata, upgage=0):\n",
    "    return int(indata * 100 + 0.5) /100 + upgage"
   ]
  },
  {
   "cell_type": "code",
   "execution_count": 48,
   "id": "6de66b6d-8a6d-414b-9209-3ca9dbb36abe",
   "metadata": {},
   "outputs": [
    {
     "data": {
      "text/plain": [
       "10.5552"
      ]
     },
     "execution_count": 48,
     "metadata": {},
     "output_type": "execute_result"
    }
   ],
   "source": [
    "# 함수정의: 입력값을 받아 소수점 둘째자리 내림 처리\n",
    "# 파라미터 정의: indata 수\n",
    "# 문제 입력파라미터에 따라 소수점 둘쨰, 셋째 , 넷째 가능한 함수 구현\n",
    "def roundFunction(indata, decimal_point = 2, upgage=0):\n",
    "    \n",
    "    if decimal_point == 2:\n",
    "        return int(indata * 100) /100 + upgage\n",
    "    elif decimal_point == 3:\n",
    "        return int(indata * 1000) /1000 + upgage\n",
    "    elif decimal_point == 4:\n",
    "        return int(indata * 10000) /10000 + upgage\n",
    "\n",
    "roundFunction(10.555232)\n",
    "roundFunction(10.555232, 3)\n",
    "roundFunction(10.555232, 4)"
   ]
  },
  {
   "cell_type": "code",
   "execution_count": 45,
   "id": "78c575a4-90cf-41ca-b9a8-054831b497f4",
   "metadata": {},
   "outputs": [
    {
     "data": {
      "text/plain": [
       "10.5552"
      ]
     },
     "execution_count": 45,
     "metadata": {},
     "output_type": "execute_result"
    }
   ],
   "source": [
    "indata = 10.555232\n",
    "\n",
    "indata * 10000\n",
    "int(indata * 10000) /10000"
   ]
  },
  {
   "cell_type": "code",
   "execution_count": 52,
   "id": "27fe5f4a-7d8e-495a-b41a-45f29570f4b3",
   "metadata": {},
   "outputs": [
    {
     "data": {
      "text/plain": [
       "10.55523"
      ]
     },
     "execution_count": 52,
     "metadata": {},
     "output_type": "execute_result"
    }
   ],
   "source": [
    "import typing\n",
    "def roundFunction(indata: typing.Union[int, float], upgage: int = 2):\n",
    "    return int(indata * (10 ** upgage) + (0.5 ** (upgage - 1))) / (10 ** upgage)\n",
    "\n",
    "roundFunction(10.555232, 5)"
   ]
  },
  {
   "cell_type": "code",
   "execution_count": 54,
   "id": "1f6ee725-31bd-4d5f-8828-1534adaec1ff",
   "metadata": {},
   "outputs": [
    {
     "data": {
      "text/plain": [
       "139000.0"
      ]
     },
     "execution_count": 54,
     "metadata": {},
     "output_type": "execute_result"
    }
   ],
   "source": [
    "def roundFunction(indata: typing.Union[int, float], upgage: int = 2):\n",
    "    return int(indata * (10 ** upgage) + (0.5 ** (upgage - 1))) / (10 ** upgage)\n",
    "\n",
    "roundFunction(123456.7890123456789, -3)"
   ]
  },
  {
   "cell_type": "code",
   "execution_count": 71,
   "id": "222b8dda-ca80-4815-8a11-5e850d6b88d1",
   "metadata": {},
   "outputs": [
    {
     "name": "stdout",
     "output_type": "stream",
     "text": [
      "[Errno 2] No such file or directory: '../dataset/kopo_st_00.csv'\n",
      "[  regionid product  qty\n",
      "0      a01  st0001  100,   regionid product  qty\n",
      "0      a02  st0001  200]\n"
     ]
    }
   ],
   "source": [
    "import pandas as pd\n",
    "\n",
    "csv_list = []\n",
    "for i in range(0, 3):\n",
    "    try:\n",
    "        csv_list.append(pd.read_csv(f'../dataset/kopo_st_0{i}.csv'))\n",
    "    except FileNotFoundError as e:\n",
    "        print(e)\n",
    "    \n",
    "print(csv_list)"
   ]
  },
  {
   "cell_type": "code",
   "execution_count": null,
   "id": "2583b51a-e9ae-41ee-a3dd-d455c3da4f0c",
   "metadata": {},
   "outputs": [],
   "source": []
  }
 ],
 "metadata": {
  "kernelspec": {
   "display_name": "Python 3 (ipykernel)",
   "language": "python",
   "name": "python3"
  },
  "language_info": {
   "codemirror_mode": {
    "name": "ipython",
    "version": 3
   },
   "file_extension": ".py",
   "mimetype": "text/x-python",
   "name": "python",
   "nbconvert_exporter": "python",
   "pygments_lexer": "ipython3",
   "version": "3.9.15"
  }
 },
 "nbformat": 4,
 "nbformat_minor": 5
}
