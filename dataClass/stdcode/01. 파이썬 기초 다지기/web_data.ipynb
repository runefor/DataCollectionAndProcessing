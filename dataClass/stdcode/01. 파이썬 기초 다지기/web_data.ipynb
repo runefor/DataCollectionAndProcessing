{
 "cells": [
  {
   "cell_type": "code",
   "execution_count": null,
   "id": "92d5b644-15bb-468d-ad6b-5952ca3d1fb8",
   "metadata": {},
   "outputs": [],
   "source": [
    "# 데이터 처리용 라이브러리\n",
    "import pandas as pd\n",
    "# 웹페이지 접속 라이브러리\n",
    "import requests\n",
    "# 웹페이지소스 이쁘게 수집하는 라이브러리\n",
    "import bs4"
   ]
  },
  {
   "cell_type": "code",
   "execution_count": null,
   "id": "ca48ba97-1f67-4d82-92a1-d6f53a6c4b3e",
   "metadata": {},
   "outputs": [],
   "source": [
    "page = 1"
   ]
  },
  {
   "cell_type": "code",
   "execution_count": null,
   "id": "88ba55a2-d6a6-411b-86f5-c0fb5362f4ce",
   "metadata": {},
   "outputs": [],
   "source": [
    "pageList = []"
   ]
  },
  {
   "cell_type": "code",
   "execution_count": null,
   "id": "89ed81a8-ec1b-4f29-bb57-564e46bbf41f",
   "metadata": {},
   "outputs": [],
   "source": [
    "MAXPAGE = 1000000"
   ]
  },
  {
   "cell_type": "code",
   "execution_count": null,
   "id": "28ea1a6c-db07-4a69-8b1f-5d64657a48ff",
   "metadata": {},
   "outputs": [],
   "source": [
    "for page in range(1, MAXPAGE):\n",
    "\n",
    "    try:\n",
    "        ### 1. 페이지 접속\n",
    "\n",
    "        targetUrl = \"https://www.ssg.com/search.ssg?target=all&query=%EA%B3%84%EB%9E%80&page={}\".format(page)\n",
    "\n",
    "        # 추가실습 풀 경우 해당 코드로 웹사이트 접근\n",
    "        user_agent = 'Mozilla/5.0 (Windows NT 10.0; Win64; x64) AppleWebKit/537.36 (KHTML, like Gecko) Chrome/100.0.4896.75 Safari/537.36'\n",
    "        resp = requests.get(targetUrl,headers = {'User-Agent':user_agent} )\n",
    "\n",
    "        bsobj = bs4.BeautifulSoup( resp.text, \"html.parser\" )\n",
    "\n",
    "        ### 추가로직 (페이지 없음 처리)\n",
    "        endResult = bsobj.find(name=\"div\", attrs={\"class\":\"csrch_tip\"})\n",
    "        if ( endResult != None ) :\n",
    "            break\n",
    "        else:\n",
    "            pass\n",
    "\n",
    "        ### 2. 원하는 데이터 정보 범위 축소\n",
    "\n",
    "        scope=bsobj.find(name=\"div\",  attrs={\"class\":\"cunit_lst_v\"})\n",
    "\n",
    "        lis = scope.findAll(name=\"li\")\n",
    "\n",
    "        ### 3. 데이터 수집\n",
    "\n",
    "        productList = []\n",
    "        productPriceList = []\n",
    "\n",
    "        for i in range(0, len(lis)):\n",
    "\n",
    "            eachProductName = lis[i].find(name=\"img\").attrs[\"alt\"]\n",
    "            eachProductPrice = lis[i].find(name=\"em\", attrs={\"class\":\"ssg_price\"}).text\n",
    "\n",
    "            productList.append(eachProductName)\n",
    "            productPriceList.append(eachProductPrice)\n",
    "\n",
    "        finalDf = pd.DataFrame( zip(productList, productPriceList) )\n",
    "        pageList.append(finalDf)\n",
    "        print(\"페이지 수집완료 : {}\".format(page))\n",
    "    except Exception as e:\n",
    "        print(e)"
   ]
  }
 ],
 "metadata": {
  "kernelspec": {
   "display_name": "base",
   "language": "python",
   "name": "python3"
  },
  "language_info": {
   "codemirror_mode": {
    "name": "ipython",
    "version": 3
   },
   "file_extension": ".py",
   "mimetype": "text/x-python",
   "name": "python",
   "nbconvert_exporter": "python",
   "pygments_lexer": "ipython3",
   "version": "3.9.12 (main, Apr  4 2022, 05:22:27) [MSC v.1916 64 bit (AMD64)]"
  },
  "vscode": {
   "interpreter": {
    "hash": "610a6f344c2137faf927ea819c63f6cee33a2c04455044b28099f39fe9722347"
   }
  }
 },
 "nbformat": 4,
 "nbformat_minor": 5
}
