{
 "cells": [
  {
   "cell_type": "code",
   "execution_count": 6,
   "id": "5cd9c055-026c-468a-80ad-5ab111ee8364",
   "metadata": {},
   "outputs": [
    {
     "name": "stdout",
     "output_type": "stream",
     "text": [
      "<class 'int'>\n",
      "<class 'float'>\n"
     ]
    }
   ],
   "source": [
    "integer_value = 10\n",
    "float_value = 20.5\n",
    "print(type(integer_value))\n",
    "print(type(float_value))"
   ]
  },
  {
   "cell_type": "code",
   "execution_count": 8,
   "id": "435c6bf6-a06d-481d-bb3c-54ea58c853b8",
   "metadata": {},
   "outputs": [
    {
     "name": "stdout",
     "output_type": "stream",
     "text": [
      "30.5\n",
      "-10.5\n",
      "205.0\n",
      "0.4878048780487805\n",
      "0.0\n",
      "10.0\n"
     ]
    }
   ],
   "source": [
    "plus_ans = integer_value + float_value\n",
    "minus_ans = integer_value - float_value\n",
    "multi_ans = integer_value * float_value\n",
    "dic_ans = integer_value / float_value\n",
    "floor_ans = integer_value // float_value\n",
    "mod_ans = integer_value % float_value\n",
    "print(plus_ans)\n",
    "print(minus_ans)\n",
    "print(multi_ans)\n",
    "print(dic_ans)\n",
    "print(floor_ans)\n",
    "print(mod_ans)"
   ]
  },
  {
   "cell_type": "code",
   "execution_count": 11,
   "id": "9f255b42-f9e8-4556-9b23-593e97957c22",
   "metadata": {},
   "outputs": [
    {
     "name": "stdin",
     "output_type": "stream",
     "text": [
      "현재 시간을 입력해주세요! :  10\n",
      "현재 분을 입력해주세요! :  23\n"
     ]
    },
    {
     "name": "stdout",
     "output_type": "stream",
     "text": [
      "33\n"
     ]
    }
   ],
   "source": [
    "hour = int(input(\"현재 시간을 입력해주세요! : \"))\n",
    "minute = int(input(\"현재 분을 입력해주세요! : \"))\n",
    "print(hour + minute)"
   ]
  },
  {
   "cell_type": "code",
   "execution_count": 14,
   "id": "27975cd1-84f7-4f0f-9a3f-cb68871f2850",
   "metadata": {},
   "outputs": [
    {
     "name": "stdout",
     "output_type": "stream",
     "text": [
      "시 :  13\n",
      "분 :  27\n",
      "현재 시간과 분을 더한 결과는 40입니다.\n"
     ]
    }
   ],
   "source": [
    "from datetime import datetime\n",
    "\n",
    "# datetime을 통해 현재 시간 가져오기\n",
    "now = datetime.now()\n",
    "print(\"시 : \", now.hour)\n",
    "print(\"분 : \", now.minute)\n",
    "# print(now.hour + now.minute)\n",
    "print(\"현재 시간과 분을 더한 결과는 {}입니다.\".format(now.hour + now.minute))"
   ]
  },
  {
   "cell_type": "code",
   "execution_count": 15,
   "id": "ea91ac6e-7a06-41e9-b70c-aa55e9e33d8b",
   "metadata": {},
   "outputs": [
    {
     "name": "stdout",
     "output_type": "stream",
     "text": [
      "**********\n"
     ]
    }
   ],
   "source": [
    "print('*' * 10)"
   ]
  },
  {
   "cell_type": "code",
   "execution_count": 20,
   "id": "f905b751-2aea-4938-a190-8a95068b0e79",
   "metadata": {},
   "outputs": [
    {
     "name": "stdout",
     "output_type": "stream",
     "text": [
      "2023\n"
     ]
    }
   ],
   "source": [
    "target_info = \"202301\"\n",
    "\n",
    "target_info[0:4]\n",
    "\n",
    "year_len_std = 4\n",
    "extracted_year = target_info[0:year_len_std]\n",
    "print(extracted_year)"
   ]
  },
  {
   "cell_type": "code",
   "execution_count": 25,
   "id": "9d7dd204-6e26-4a11-a108-724f2931e82d",
   "metadata": {},
   "outputs": [
    {
     "data": {
      "text/plain": [
       "1"
      ]
     },
     "execution_count": 25,
     "metadata": {},
     "output_type": "execute_result"
    }
   ],
   "source": [
    "## 문자열 세기\n",
    "model_name = \"LEDTV_001\"\n",
    "prefix = \"LEDTV\"\n",
    "\n",
    "model_name.count(prefix) # 안에 얼마나 있는지를 알려주는 함수임."
   ]
  },
  {
   "cell_type": "code",
   "execution_count": 31,
   "id": "f37a2676-5175-451f-a8f7-4c5780cfc176",
   "metadata": {},
   "outputs": [
    {
     "name": "stdout",
     "output_type": "stream",
     "text": [
      "2023_01\n",
      "2023년 01주차\n"
     ]
    }
   ],
   "source": [
    "year_week = \"2023W01\"\n",
    "delimeter = year_week.split(\"W\")\n",
    "\n",
    "org_delimeter = \"W\"\n",
    "new_delimeter = \"_\"\n",
    "\n",
    "print(year_week.replace(org_delimeter, new_delimeter))\n",
    "print(\"{}년 {}주차\".format(delimeter[0], delimeter[1]))"
   ]
  },
  {
   "cell_type": "code",
   "execution_count": 24,
   "id": "2437a15a-2f30-443b-aa59-bfd02203db4e",
   "metadata": {},
   "outputs": [
    {
     "name": "stdout",
     "output_type": "stream",
     "text": [
      "HAITEAM\n",
      "haiteam\n"
     ]
    }
   ],
   "source": [
    "target_id = \"haiTeam\"\n",
    "print(target_id.upper())\n",
    "print(target_id.lower())"
   ]
  },
  {
   "cell_type": "code",
   "execution_count": 33,
   "id": "3f3bfbd3-2733-4873-8954-f8359989f19f",
   "metadata": {},
   "outputs": [
    {
     "name": "stdout",
     "output_type": "stream",
     "text": [
      "2023\n",
      "1\n"
     ]
    }
   ],
   "source": [
    "str_data = \"202301\"\n",
    "int_data = int(str_data)\n",
    "\n",
    "year_info = int(int_data / 100)\n",
    "week_info = int_data % 100\n",
    "\n",
    "print(year_info)\n",
    "print(week_info)"
   ]
  },
  {
   "cell_type": "code",
   "execution_count": 35,
   "id": "f504be44-ea8a-48b1-8da7-7343c5081b68",
   "metadata": {},
   "outputs": [
    {
     "name": "stdout",
     "output_type": "stream",
     "text": [
      "SEC\n",
      "201828\n",
      "250\n"
     ]
    }
   ],
   "source": [
    "str_set = \"Sec 2018W28 250\"\n",
    "\n",
    "str_set_list = str_set.split(\" \")\n",
    "\n",
    "stock_name = str_set_list[0].upper()\n",
    "date = int(str_set_list[1].replace(\"W\",\"\"))\n",
    "value = int(str_set_list[2])\n",
    "\n",
    "print(stock_name)\n",
    "print(date)\n",
    "print(value)"
   ]
  },
  {
   "cell_type": "code",
   "execution_count": 1,
   "id": "d0d41a26-05c4-498d-9c53-fa30a5eac075",
   "metadata": {},
   "outputs": [
    {
     "name": "stdout",
     "output_type": "stream",
     "text": [
      "414.0\n"
     ]
    }
   ],
   "source": [
    "int_list = [120,150,300,500,1000,100,2000]\n",
    "\n",
    "int_list.sort()\n",
    "int_list.remove(min(int_list))\n",
    "int_list.remove(max(int_list))\n",
    "\n",
    "average =  sum(int_list) / len(int_list)\n",
    "\n",
    "print(average)"
   ]
  },
  {
   "cell_type": "code",
   "execution_count": 2,
   "id": "6f163338-2a47-42aa-a915-b1009cee0f82",
   "metadata": {},
   "outputs": [
    {
     "name": "stdout",
     "output_type": "stream",
     "text": [
      "['LEDTV_UN42001', 'LEDTV_UN52001', 'LEDTV_UN55001']\n"
     ]
    }
   ],
   "source": [
    "tvList = [\"UN42001\", \"UN52001\", \"UN55001\"]\n",
    "preFix = \"LEDTV_\"\n",
    "\n",
    "for i in range(0, len(tvList), 1):\n",
    "    tvList[i] = preFix + tvList[i]\n",
    "print(tvList)"
   ]
  },
  {
   "cell_type": "code",
   "execution_count": 9,
   "id": "5b7de464-1c18-41e7-948c-59f5ee9c1dd5",
   "metadata": {},
   "outputs": [
    {
     "name": "stdout",
     "output_type": "stream",
     "text": [
      "['SEC_A13566', 'SEC_A14219', 'SEC_A15312', 'SEC_A16605', 'SEC_B10634', 'SEC_B16849', 'SEC_B18816', 'SEC_C10639', 'SEC_C12717', 'SEC_C15050', 'SEC_C18306', 'SEC_C18622', 'SEC_C19178', 'SEC_D11795', 'SEC_D13030', 'SEC_D15289', 'SEC_D17241', 'SEC_D17880', 'SEC_E10778', 'SEC_E11917', 'SEC_E16075', 'SEC_E16221', 'SEC_E18145', 'SEC_E19404', 'SEC_F10222', 'SEC_F12979', 'SEC_F14866', 'SEC_F17131', 'SEC_F18646', 'SEC_F19938', 'SEC_G11453', 'SEC_G15439', 'SEC_G15736', 'SEC_G16437', 'SEC_G16681', 'SEC_G16922', 'SEC_G18402', 'SEC_G19717', 'SEC_H10188', 'SEC_H15023', 'SEC_H16326', 'SEC_H16434', 'SEC_H18821', 'SEC_H19829', 'SEC_I11601', 'SEC_I12899', 'SEC_I14835', 'SEC_I17056', 'SEC_I17780', 'SEC_I18190', 'SEC_I19586', 'SEC_J10809', 'SEC_J15083', 'SEC_J16445', 'SEC_J18368', 'SEC_J18640', 'SEC_K10712', 'SEC_K13300', 'SEC_K16632', 'SEC_L10919', 'SEC_L13892', 'SEC_L16344', 'SEC_L17101', 'SEC_L18000', 'SEC_M10156', 'SEC_M16452', 'SEC_M17538', 'SEC_N13273', 'SEC_N14862', 'SEC_N15762', 'SEC_O10236', 'SEC_O12193', 'SEC_O13037', 'SEC_O13586', 'SEC_O16407', 'SEC_O19630', 'SEC_P14445', 'SEC_P14740', 'SEC_P18446', 'SEC_P18769', 'SEC_P19679', 'SEC_Q11876', 'SEC_Q12581', 'SEC_Q13484', 'SEC_Q14673', 'SEC_Q15445', 'SEC_Q16449', 'SEC_Q16970', 'SEC_Q18064', 'SEC_Q18901', 'SEC_Q19870', 'SEC_R10086', 'SEC_R11271', 'SEC_R12480', 'SEC_R15454', 'SEC_R16364', 'SEC_R18220', 'SEC_S10909', 'SEC_S12066', 'SEC_S12785', 'SEC_S13238', 'SEC_S14751', 'SEC_S14878', 'SEC_S15191', 'SEC_S15607', 'SEC_S15966', 'SEC_S16151', 'SEC_S17396', 'SEC_S17893', 'SEC_S18699', 'SEC_S18924', 'SEC_T10762', 'SEC_T11116', 'SEC_T11473', 'SEC_T11512', 'SEC_T12735', 'SEC_T13866', 'SEC_T16556', 'SEC_U15861', 'SEC_U16637', 'SEC_U16894', 'SEC_U17547', 'SEC_U17748', 'SEC_V10654', 'SEC_V16516', 'SEC_V16704', 'SEC_V18566', 'SEC_V19072', 'SEC_W10832', 'SEC_W13032', 'SEC_W13404', 'SEC_W13995', 'SEC_W16193', 'SEC_W18228', 'SEC_X10158', 'SEC_X13390', 'SEC_X14259', 'SEC_X19598', 'SEC_X19768', 'SEC_Y10906', 'SEC_Y12458', 'SEC_Y13678', 'SEC_Z11525', 'SEC_Z12343', 'SEC_Z12772', 'SEC_Z13253', 'SEC_Z13534', 'SEC_Z16428', 'SEC_Z16735', 'SEC_Z19835']\n"
     ]
    }
   ],
   "source": [
    "import pandas as pd\n",
    "\n",
    "dataUrl = \"https://raw.githubusercontent.com/hyokwan/python-lecture/master/dataset/customerdata.csv\"\n",
    "\n",
    "csData = pd.read_csv(dataUrl)\n",
    "\n",
    "customerNumber = list( csData.CUSTID )\n",
    "preFix = \"SEC_\"\n",
    "# print(customerNumber)\n",
    "\n",
    "for i in range(len(customerNumber)):\n",
    "    customerNumber[i] = preFix + customerNumber[i]\n",
    "print(customerNumber)"
   ]
  },
  {
   "cell_type": "code",
   "execution_count": 7,
   "id": "1078b65e-cae0-44ec-a825-1a07a3d44f67",
   "metadata": {},
   "outputs": [
    {
     "data": {
      "text/plain": [
       "['SEC_A13566',\n",
       " 'SEC_A14219',\n",
       " 'SEC_A15312',\n",
       " 'SEC_A16605',\n",
       " 'SEC_B10634',\n",
       " 'SEC_B16849',\n",
       " 'SEC_B18816',\n",
       " 'SEC_C10639',\n",
       " 'SEC_C12717',\n",
       " 'SEC_C15050',\n",
       " 'SEC_C18306',\n",
       " 'SEC_C18622',\n",
       " 'SEC_C19178',\n",
       " 'SEC_D11795',\n",
       " 'SEC_D13030',\n",
       " 'SEC_D15289',\n",
       " 'SEC_D17241',\n",
       " 'SEC_D17880',\n",
       " 'SEC_E10778',\n",
       " 'SEC_E11917',\n",
       " 'SEC_E16075',\n",
       " 'SEC_E16221',\n",
       " 'SEC_E18145',\n",
       " 'SEC_E19404',\n",
       " 'SEC_F10222',\n",
       " 'SEC_F12979',\n",
       " 'SEC_F14866',\n",
       " 'SEC_F17131',\n",
       " 'SEC_F18646',\n",
       " 'SEC_F19938',\n",
       " 'SEC_G11453',\n",
       " 'SEC_G15439',\n",
       " 'SEC_G15736',\n",
       " 'SEC_G16437',\n",
       " 'SEC_G16681',\n",
       " 'SEC_G16922',\n",
       " 'SEC_G18402',\n",
       " 'SEC_G19717',\n",
       " 'SEC_H10188',\n",
       " 'SEC_H15023',\n",
       " 'SEC_H16326',\n",
       " 'SEC_H16434',\n",
       " 'SEC_H18821',\n",
       " 'SEC_H19829',\n",
       " 'SEC_I11601',\n",
       " 'SEC_I12899',\n",
       " 'SEC_I14835',\n",
       " 'SEC_I17056',\n",
       " 'SEC_I17780',\n",
       " 'SEC_I18190',\n",
       " 'SEC_I19586',\n",
       " 'SEC_J10809',\n",
       " 'SEC_J15083',\n",
       " 'SEC_J16445',\n",
       " 'SEC_J18368',\n",
       " 'SEC_J18640',\n",
       " 'SEC_K10712',\n",
       " 'SEC_K13300',\n",
       " 'SEC_K16632',\n",
       " 'SEC_L10919',\n",
       " 'SEC_L13892',\n",
       " 'SEC_L16344',\n",
       " 'SEC_L17101',\n",
       " 'SEC_L18000',\n",
       " 'SEC_M10156',\n",
       " 'SEC_M16452',\n",
       " 'SEC_M17538',\n",
       " 'SEC_N13273',\n",
       " 'SEC_N14862',\n",
       " 'SEC_N15762',\n",
       " 'SEC_O10236',\n",
       " 'SEC_O12193',\n",
       " 'SEC_O13037',\n",
       " 'SEC_O13586',\n",
       " 'SEC_O16407',\n",
       " 'SEC_O19630',\n",
       " 'SEC_P14445',\n",
       " 'SEC_P14740',\n",
       " 'SEC_P18446',\n",
       " 'SEC_P18769',\n",
       " 'SEC_P19679',\n",
       " 'SEC_Q11876',\n",
       " 'SEC_Q12581',\n",
       " 'SEC_Q13484',\n",
       " 'SEC_Q14673',\n",
       " 'SEC_Q15445',\n",
       " 'SEC_Q16449',\n",
       " 'SEC_Q16970',\n",
       " 'SEC_Q18064',\n",
       " 'SEC_Q18901',\n",
       " 'SEC_Q19870',\n",
       " 'SEC_R10086',\n",
       " 'SEC_R11271',\n",
       " 'SEC_R12480',\n",
       " 'SEC_R15454',\n",
       " 'SEC_R16364',\n",
       " 'SEC_R18220',\n",
       " 'SEC_S10909',\n",
       " 'SEC_S12066',\n",
       " 'SEC_S12785',\n",
       " 'SEC_S13238',\n",
       " 'SEC_S14751',\n",
       " 'SEC_S14878',\n",
       " 'SEC_S15191',\n",
       " 'SEC_S15607',\n",
       " 'SEC_S15966',\n",
       " 'SEC_S16151',\n",
       " 'SEC_S17396',\n",
       " 'SEC_S17893',\n",
       " 'SEC_S18699',\n",
       " 'SEC_S18924',\n",
       " 'SEC_T10762',\n",
       " 'SEC_T11116',\n",
       " 'SEC_T11473',\n",
       " 'SEC_T11512',\n",
       " 'SEC_T12735',\n",
       " 'SEC_T13866',\n",
       " 'SEC_T16556',\n",
       " 'SEC_U15861',\n",
       " 'SEC_U16637',\n",
       " 'SEC_U16894',\n",
       " 'SEC_U17547',\n",
       " 'SEC_U17748',\n",
       " 'SEC_V10654',\n",
       " 'SEC_V16516',\n",
       " 'SEC_V16704',\n",
       " 'SEC_V18566',\n",
       " 'SEC_V19072',\n",
       " 'SEC_W10832',\n",
       " 'SEC_W13032',\n",
       " 'SEC_W13404',\n",
       " 'SEC_W13995',\n",
       " 'SEC_W16193',\n",
       " 'SEC_W18228',\n",
       " 'SEC_X10158',\n",
       " 'SEC_X13390',\n",
       " 'SEC_X14259',\n",
       " 'SEC_X19598',\n",
       " 'SEC_X19768',\n",
       " 'SEC_Y10906',\n",
       " 'SEC_Y12458',\n",
       " 'SEC_Y13678',\n",
       " 'SEC_Z11525',\n",
       " 'SEC_Z12343',\n",
       " 'SEC_Z12772',\n",
       " 'SEC_Z13253',\n",
       " 'SEC_Z13534',\n",
       " 'SEC_Z16428',\n",
       " 'SEC_Z16735',\n",
       " 'SEC_Z19835']"
      ]
     },
     "execution_count": 7,
     "metadata": {},
     "output_type": "execute_result"
    }
   ],
   "source": [
    "import pandas as pd\n",
    "\n",
    "dataUrl = \"https://raw.githubusercontent.com/hyokwan/python-lecture/master/dataset/customerdata.csv\"\n",
    "\n",
    "csData = pd.read_csv(dataUrl)\n",
    "\n",
    "customerNumber = list( csData.CUSTID )\n",
    "\n",
    "### 문제 customerNumber 앞에 접두어 SEC_를 붙인다\n",
    "customerNumber = [f\"SEC_{i}\" for i in customerNumber]\n",
    "customerNumber"
   ]
  },
  {
   "cell_type": "code",
   "execution_count": null,
   "id": "6a1e4ccb-8b6c-4770-b346-34005c867112",
   "metadata": {},
   "outputs": [],
   "source": []
  }
 ],
 "metadata": {
  "kernelspec": {
   "display_name": "Python 3 (ipykernel)",
   "language": "python",
   "name": "python3"
  },
  "language_info": {
   "codemirror_mode": {
    "name": "ipython",
    "version": 3
   },
   "file_extension": ".py",
   "mimetype": "text/x-python",
   "name": "python",
   "nbconvert_exporter": "python",
   "pygments_lexer": "ipython3",
   "version": "3.9.15"
  }
 },
 "nbformat": 4,
 "nbformat_minor": 5
}
