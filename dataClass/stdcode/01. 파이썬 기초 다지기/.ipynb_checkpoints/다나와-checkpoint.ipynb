{
 "cells": [
  {
   "cell_type": "code",
   "execution_count": 1,
   "id": "f430c58f-790b-4da6-8736-c9813cc4871d",
   "metadata": {},
   "outputs": [],
   "source": [
    "from selenium import webdriver\n",
    "from selenium.webdriver.common.by import By\n",
    "from selenium.webdriver.common.keys import Keys\n",
    "import bs4"
   ]
  },
  {
   "cell_type": "code",
   "execution_count": null,
   "id": "5f371a88-7a59-408b-8464-5cfbf02fe4b0",
   "metadata": {},
   "outputs": [],
   "source": [
    "driver_loc = \"../extern/chromedriver_win32/chromedriver.exe\"\n",
    "\n",
    "\n",
    "options = webdriver.ChromeOptions();\n",
    "options.add_argument(\"windows-size=1920*1080\")\n",
    "\n",
    "driver = webdriver.Chrome(driver_loc, options=options)\n",
    "driver.implicitly_wait(3)"
   ]
  },
  {
   "cell_type": "code",
   "execution_count": null,
   "id": "1a13f4ac-6026-42dc-bab7-b4c26b3c89ea",
   "metadata": {},
   "outputs": [],
   "source": [
    "targetUrl = \"https://www.danawa.com/\""
   ]
  },
  {
   "cell_type": "code",
   "execution_count": null,
   "id": "fdf57cfb-2c1f-449a-b895-4d7411b2adf2",
   "metadata": {},
   "outputs": [],
   "source": [
    "다나와_컴퓨터 = '//*[@id=\"sectionLayer\"]/li[2]/a'\n",
    "다나와_노트북 = '//*[@id=\"categoryHoverLayer11\"]/div[1]/ul/li[4]/a'\n",
    "다나와_노트북_전체 = '//*[@id=\"categoryUnit96\"]/ul/li[1]/a'\n"
   ]
  },
  {
   "cell_type": "code",
   "execution_count": null,
   "id": "957e7dd6-583c-4fd7-9d47-0af428135276",
   "metadata": {},
   "outputs": [],
   "source": [
    "driver.get(targetUrl)"
   ]
  },
  {
   "cell_type": "code",
   "execution_count": null,
   "id": "3511ee89-9917-4dca-9e70-19f220866440",
   "metadata": {},
   "outputs": [],
   "source": [
    "driver.find_element(By.XPATH, 다나와_컴퓨터).click()\n",
    "driver.find_element(By.XPATH, 다나와_노트북).click()\n",
    "driver.find_element(By.XPATH, 다나와_노트북_전체).click()"
   ]
  }
 ],
 "metadata": {
  "kernelspec": {
   "display_name": "Python 3 (ipykernel)",
   "language": "python",
   "name": "python3"
  },
  "language_info": {
   "codemirror_mode": {
    "name": "ipython",
    "version": 3
   },
   "file_extension": ".py",
   "mimetype": "text/x-python",
   "name": "python",
   "nbconvert_exporter": "python",
   "pygments_lexer": "ipython3",
   "version": "3.9.15"
  }
 },
 "nbformat": 4,
 "nbformat_minor": 5
}
