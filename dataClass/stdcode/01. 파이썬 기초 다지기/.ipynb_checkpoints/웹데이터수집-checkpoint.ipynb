{
 "cells": [
  {
   "cell_type": "code",
   "execution_count": 26,
   "id": "2353b4e8-c6c8-4c7f-af5a-18625652b002",
   "metadata": {},
   "outputs": [],
   "source": [
    "# requests 웹에 데이터를 요청하는 라이브러리\n",
    "# bs4 html 이쁘게 가져오는 라이브러리\n",
    "import requests, bs4\n",
    "\n",
    "resp = requests.get(\"https://sparkkorea.com/%ed%80%b4%ec%a6%88/\")\n",
    "\n",
    "html = resp.text\n",
    "\n",
    "bs = bs4.BeautifulSoup(html, \"html.parser\")"
   ]
  },
  {
   "cell_type": "code",
   "execution_count": 11,
   "id": "b3a664e7-8422-49ad-a4f2-543122f6f538",
   "metadata": {},
   "outputs": [
    {
     "data": {
      "text/plain": [
       "<a class=\"skip-link screen-reader-text\" href=\"#content\">컨텐츠로 건너뛰기</a>"
      ]
     },
     "execution_count": 11,
     "metadata": {},
     "output_type": "execute_result"
    }
   ],
   "source": [
    "bs.find(\"a\")"
   ]
  },
  {
   "cell_type": "code",
   "execution_count": 13,
   "id": "63eadaa9-818d-47a9-a9e3-08041e607210",
   "metadata": {},
   "outputs": [
    {
     "data": {
      "text/plain": [
       "[<h1 class=\"site-title\">\n",
       " <a href=\"https://sparkkorea.com/\" rel=\"home\">\n",
       " \t\t\t\t\t스파크 코리아\t\t\t\t</a>\n",
       " </h1>,\n",
       " <h1 class=\"entry-title\">퀴즈</h1>,\n",
       " <h1> 메인 </h1>,\n",
       " <h1>Spark 퀴즈 </h1>]"
      ]
     },
     "execution_count": 13,
     "metadata": {},
     "output_type": "execute_result"
    }
   ],
   "source": [
    "bs.find_all(name=\"h1\")"
   ]
  },
  {
   "cell_type": "code",
   "execution_count": 91,
   "id": "b8603367-5651-4853-91db-2ab76cb0dcff",
   "metadata": {},
   "outputs": [
    {
     "name": "stdout",
     "output_type": "stream",
     "text": [
      "[' 6/13 Spark 심화과정 ', ' 6/13 Spark 기본과정 ', ' 6/18 Spark [MAP_FILTER] ', ' 6/18 Spark GroupBy 심화 ', ' 6/25 Spark RDD 실전 분석 ', ' 6/27 Spark RDD 실전 분석2 ']\n"
     ]
    },
    {
     "data": {
      "text/plain": [
       "{'text': [' 6/13 Spark 심화과정 ',\n",
       "  ' 6/13 Spark 기본과정 ',\n",
       "  ' 6/18 Spark [MAP_FILTER] ',\n",
       "  ' 6/18 Spark GroupBy 심화 ',\n",
       "  ' 6/25 Spark RDD 실전 분석 ',\n",
       "  ' 6/27 Spark RDD 실전 분석2 '],\n",
       " 'link': ['https://forms.gle/Fw49w9GhWQChDcZm7',\n",
       "  'https://forms.gle/G4TcXm3fKuHLHA6D6',\n",
       "  'https://forms.gle/M8gr1kC2ubA3UDVp8',\n",
       "  'https://forms.gle/h8w5mZ4MNaPLCPbi6',\n",
       "  'https://forms.gle/q5yL6QHfueDLM5w27',\n",
       "  'https://forms.gle/Gxb4y6LfVYiaLu4M7']}"
      ]
     },
     "execution_count": 91,
     "metadata": {},
     "output_type": "execute_result"
    }
   ],
   "source": [
    "quiz = bs.find(name=\"div\", attrs={\"id\":\"id_spark_quiz\"})\n",
    "a_quiz = quiz.findAll(name=\"a\")\n",
    "data = []\n",
    "dic_data = {\n",
    "    \"text\" : [],\n",
    "    \"link\" : []\n",
    "}\n",
    "for i in a_quiz:\n",
    "    data.append(i.text)\n",
    "    dic_data[\"text\"].append(i.text)\n",
    "    dic_data[\"link\"].append(i.attrs[\"href\"])\n",
    "print(data)\n",
    "dic_data"
   ]
  },
  {
   "cell_type": "code",
   "execution_count": 77,
   "id": "05cee935-a65f-46b2-bfdf-b4103d5d5d51",
   "metadata": {},
   "outputs": [
    {
     "data": {
      "text/html": [
       "<div>\n",
       "<style scoped>\n",
       "    .dataframe tbody tr th:only-of-type {\n",
       "        vertical-align: middle;\n",
       "    }\n",
       "\n",
       "    .dataframe tbody tr th {\n",
       "        vertical-align: top;\n",
       "    }\n",
       "\n",
       "    .dataframe thead th {\n",
       "        text-align: right;\n",
       "    }\n",
       "</style>\n",
       "<table border=\"1\" class=\"dataframe\">\n",
       "  <thead>\n",
       "    <tr style=\"text-align: right;\">\n",
       "      <th></th>\n",
       "      <th>링크제목</th>\n",
       "    </tr>\n",
       "  </thead>\n",
       "  <tbody>\n",
       "    <tr>\n",
       "      <th>0</th>\n",
       "      <td>6/13 Spark 심화과정</td>\n",
       "    </tr>\n",
       "  </tbody>\n",
       "</table>\n",
       "</div>"
      ],
      "text/plain": [
       "                링크제목\n",
       "0   6/13 Spark 심화과정 "
      ]
     },
     "execution_count": 77,
     "metadata": {},
     "output_type": "execute_result"
    }
   ],
   "source": [
    "import pandas as pd\n",
    "\n",
    "quiz_data = pd.DataFrame(data, columns=[\"링크제목\"])\n",
    "quiz_data"
   ]
  },
  {
   "cell_type": "code",
   "execution_count": 87,
   "id": "792813bd-9666-44c5-974d-2696f74b66ba",
   "metadata": {},
   "outputs": [
    {
     "name": "stdout",
     "output_type": "stream",
     "text": [
      "[' 6/13 Spark 심화과정 ', ' 6/13 Spark 기본과정 ', ' 6/18 Spark [MAP_FILTER] ', ' 6/18 Spark GroupBy 심화 ', ' 6/25 Spark RDD 실전 분석 ', ' 6/27 Spark RDD 실전 분석2 ']\n"
     ]
    },
    {
     "data": {
      "text/plain": [
       "['https://forms.gle/Fw49w9GhWQChDcZm7',\n",
       " 'https://forms.gle/G4TcXm3fKuHLHA6D6',\n",
       " 'https://forms.gle/M8gr1kC2ubA3UDVp8',\n",
       " 'https://forms.gle/h8w5mZ4MNaPLCPbi6',\n",
       " 'https://forms.gle/q5yL6QHfueDLM5w27',\n",
       " 'https://forms.gle/Gxb4y6LfVYiaLu4M7']"
      ]
     },
     "execution_count": 87,
     "metadata": {},
     "output_type": "execute_result"
    }
   ],
   "source": [
    "quiz = bs.find(name=\"div\", attrs={\"id\":\"id_spark_quiz\"})\n",
    "a_quiz = quiz.findAll(name=\"a\")\n",
    "\n",
    "titleList = []\n",
    "linkList = []\n",
    "\n",
    "for i in a_quiz:\n",
    "    titleList.append(i.text)\n",
    "    linkList.append(i.attrs[\"href\"])\n",
    "print(titleList)\n",
    "linkList"
   ]
  },
  {
   "cell_type": "code",
   "execution_count": 90,
   "id": "6b2d0d77-b754-41d4-bf4e-2c997a455354",
   "metadata": {},
   "outputs": [
    {
     "data": {
      "text/html": [
       "<div>\n",
       "<style scoped>\n",
       "    .dataframe tbody tr th:only-of-type {\n",
       "        vertical-align: middle;\n",
       "    }\n",
       "\n",
       "    .dataframe tbody tr th {\n",
       "        vertical-align: top;\n",
       "    }\n",
       "\n",
       "    .dataframe thead th {\n",
       "        text-align: right;\n",
       "    }\n",
       "</style>\n",
       "<table border=\"1\" class=\"dataframe\">\n",
       "  <thead>\n",
       "    <tr style=\"text-align: right;\">\n",
       "      <th></th>\n",
       "      <th>제목</th>\n",
       "      <th>링크</th>\n",
       "    </tr>\n",
       "  </thead>\n",
       "  <tbody>\n",
       "    <tr>\n",
       "      <th>0</th>\n",
       "      <td>6/13 Spark 심화과정</td>\n",
       "      <td>https://forms.gle/Fw49w9GhWQChDcZm7</td>\n",
       "    </tr>\n",
       "    <tr>\n",
       "      <th>1</th>\n",
       "      <td>6/13 Spark 기본과정</td>\n",
       "      <td>https://forms.gle/G4TcXm3fKuHLHA6D6</td>\n",
       "    </tr>\n",
       "    <tr>\n",
       "      <th>2</th>\n",
       "      <td>6/18 Spark [MAP_FILTER]</td>\n",
       "      <td>https://forms.gle/M8gr1kC2ubA3UDVp8</td>\n",
       "    </tr>\n",
       "    <tr>\n",
       "      <th>3</th>\n",
       "      <td>6/18 Spark GroupBy 심화</td>\n",
       "      <td>https://forms.gle/h8w5mZ4MNaPLCPbi6</td>\n",
       "    </tr>\n",
       "    <tr>\n",
       "      <th>4</th>\n",
       "      <td>6/25 Spark RDD 실전 분석</td>\n",
       "      <td>https://forms.gle/q5yL6QHfueDLM5w27</td>\n",
       "    </tr>\n",
       "    <tr>\n",
       "      <th>5</th>\n",
       "      <td>6/27 Spark RDD 실전 분석2</td>\n",
       "      <td>https://forms.gle/Gxb4y6LfVYiaLu4M7</td>\n",
       "    </tr>\n",
       "  </tbody>\n",
       "</table>\n",
       "</div>"
      ],
      "text/plain": [
       "                          제목                                   링크\n",
       "0           6/13 Spark 심화과정   https://forms.gle/Fw49w9GhWQChDcZm7\n",
       "1           6/13 Spark 기본과정   https://forms.gle/G4TcXm3fKuHLHA6D6\n",
       "2   6/18 Spark [MAP_FILTER]   https://forms.gle/M8gr1kC2ubA3UDVp8\n",
       "3     6/18 Spark GroupBy 심화   https://forms.gle/h8w5mZ4MNaPLCPbi6\n",
       "4      6/25 Spark RDD 실전 분석   https://forms.gle/q5yL6QHfueDLM5w27\n",
       "5     6/27 Spark RDD 실전 분석2   https://forms.gle/Gxb4y6LfVYiaLu4M7"
      ]
     },
     "execution_count": 90,
     "metadata": {},
     "output_type": "execute_result"
    }
   ],
   "source": [
    "import pandas as pd\n",
    "\n",
    "quiz_data = pd.DataFrame(zip(titleList, linkList), columns=[\"제목\", \"링크\"])\n",
    "quiz_data"
   ]
  },
  {
   "cell_type": "code",
   "execution_count": 29,
   "id": "5c3658bc-9a44-4a80-8c62-9faa3e0f831c",
   "metadata": {},
   "outputs": [
    {
     "data": {
      "text/plain": [
       "[<h1 class=\"site-title\">\n",
       " <a href=\"https://sparkkorea.com/\" rel=\"home\">\n",
       " \t\t\t\t\t스파크 코리아\t\t\t\t</a>\n",
       " </h1>,\n",
       " <h1 class=\"entry-title\">퀴즈</h1>,\n",
       " <h1> 메인 </h1>,\n",
       " <h1>Spark 퀴즈 </h1>]"
      ]
     },
     "execution_count": 29,
     "metadata": {},
     "output_type": "execute_result"
    }
   ],
   "source": [
    "h1tags = bs.find_all(name=\"h1\")\n",
    "h1tags"
   ]
  },
  {
   "cell_type": "code",
   "execution_count": 34,
   "id": "be35b6fb-b5f5-4d34-a7cb-0841928b98fd",
   "metadata": {},
   "outputs": [
    {
     "data": {
      "text/plain": [
       "'퀴즈'"
      ]
     },
     "execution_count": 34,
     "metadata": {},
     "output_type": "execute_result"
    }
   ],
   "source": [
    "atags = bs.findAll(name=\"a\")\n",
    "atags[3].text"
   ]
  },
  {
   "cell_type": "code",
   "execution_count": 138,
   "id": "d8835052-a576-44ff-b6bb-46ba47074b1b",
   "metadata": {},
   "outputs": [],
   "source": [
    "import requests, bs4\n",
    "\n",
    "targetUrl = \"https://www.ssg.com/search.ssg?target=all&query=%EA%B3%84%EB%9E%80\"\n",
    "\n",
    "user_agent = 'Mozilla/5.0 (Windows NT 10.0; Win64; x64) AppleWebKit/537.36 (KHTML, like Gecko) Chrome/100.0.4896.75 Safari/537.36'\n",
    "resp = requests.get(targetUrl,headers = {'User-Agent':user_agent} )\n",
    "\n",
    "html = resp.text\n",
    "\n",
    "bs = bs4.BeautifulSoup(html, \"html.parser\")"
   ]
  },
  {
   "cell_type": "code",
   "execution_count": 134,
   "id": "024489ae-380a-4ce8-a2be-152ebd1a7fdc",
   "metadata": {},
   "outputs": [
    {
     "data": {
      "text/plain": [
       "<div class=\"tmpl_itemlist\" id=\"area_searchItemList\">\n",
       "<input id=\"target_ctg_count\" type=\"hidden\" value=\"\">\n",
       "<input id=\"target_item_count\" type=\"hidden\" value=\"\">\n",
       "<input id=\"target_item_display\" type=\"hidden\" value=\"\">\n",
       "<input id=\"target_item_disp_count\" type=\"hidden\" value=\"80\">\n",
       "<div class=\"com_paginate notranslate\" id=\"item_navi\">\n",
       "</div></input></input></input></input></div>"
      ]
     },
     "execution_count": 134,
     "metadata": {},
     "output_type": "execute_result"
    }
   ],
   "source": [
    "itemDiv = bs.find(name=\"div\", attrs={\"id\":\"area_searchItemList\"})\n",
    "itemDiv\n",
    "#itemDiv.find(name=\"div\", attrs={\"id\":\"item_navi\"})"
   ]
  },
  {
   "cell_type": "code",
   "execution_count": 110,
   "id": "04aa7967-b75d-4a53-b057-69a7dc748764",
   "metadata": {},
   "outputs": [],
   "source": [
    "egg = bs.find(name=\"ul\", attrs={\"id\":\"idProductImg\"})\n",
    "egg"
   ]
  },
  {
   "cell_type": "code",
   "execution_count": 159,
   "id": "d3356896-0007-41d5-bf30-a1a3ebb6ed1f",
   "metadata": {},
   "outputs": [
    {
     "data": {
      "text/plain": [
       "'난이생생 계란 15개입 (왕란, 1020g)'"
      ]
     },
     "execution_count": 159,
     "metadata": {},
     "output_type": "execute_result"
    }
   ],
   "source": [
    "ultag = bs.find(name=\"ul\", attrs={\"id\":\"idProductImg\"})\n",
    "# litag = ultag.find(name=\"li\", attrs={\"id\":\"item_unit_0000007452329\"})\n",
    "litag = ultag.findAll(name=\"li\")\n",
    "len(litag)\n",
    "info = litag[0].find(name=\"div\", attrs={\"class\":\"cunit_info\"})\n",
    "info.find(name=\"em\", attrs={\"class\":\"tx_ko\"}).text\n",
    "info.find(name=\"em\", attrs={\"class\":\"ssg_price\"}).text\n",
    "info.find(name=\"em\").text\n"
   ]
  },
  {
   "cell_type": "code",
   "execution_count": 162,
   "id": "4fd42cde-acd7-481c-828a-96ff8b3218f0",
   "metadata": {},
   "outputs": [
    {
     "data": {
      "text/plain": [
       "{'name': ['난이생생 계란 15개입 (왕란, 1020g)',\n",
       "  '파머스픽 가농 1+등급 25개입 특란',\n",
       "  '백색란 30개입 대란',\n",
       "  '파머스픽 1+ 등급란 10개입 특란',\n",
       "  '오늘반찬은 신선한란 30알',\n",
       "  '산야초 먹인 동물복지인증 유정란 15개입 (780g내외)',\n",
       "  '[풀무원] 동물복지 유정란 15개입 (대란, 780g)',\n",
       "  '[풀무원] 신선가득 계란 15개입 (대란, 780g)',\n",
       "  '파머스픽 1등급란 15개입 특란',\n",
       "  '동물복지 자유방목 유정란 10개입 (대란, 520g)',\n",
       "  '동물복지 자유방목 유정란 25개입 대란',\n",
       "  'PEACOCK',\n",
       "  '파머스픽 1등급 목초먹인계란 15개입 대란',\n",
       "  '동물복지 백색유정란 15개입 대란',\n",
       "  '난이생생 15개입(1020g) 왕란',\n",
       "  '파머스픽 1등급 6개입 특란',\n",
       "  '동물복지 유정란 25개입 (대란, 1300g)',\n",
       "  'SSG.Fresh',\n",
       "  '파머스픽 1등급 의성마늘계란 15개입 대란',\n",
       "  '동물복지계란 15알',\n",
       "  'PEACOCK',\n",
       "  '동물복지 유정란 15개입 (특란)',\n",
       "  '짜지않은반숙란8입',\n",
       "  '무항생제 신선계란 30입',\n",
       "  '하림',\n",
       "  '동물복지 토종닭이 낳은 유정란(10개입)',\n",
       "  '[1번사육]동물복지 자유방목 무항생제 신선유정란 15입',\n",
       "  '상하 노른자가 진한 1+등급란 15개입',\n",
       "  'SSG.Fresh',\n",
       "  'SSG.Fresh',\n",
       "  '1등급 우리집 신선계란 20개입 대란 1,040g',\n",
       "  'SSG.Fresh',\n",
       "  '파머스픽 1등급 청국장먹인계란 15개입 대',\n",
       "  '풀무원',\n",
       "  '조인 강남농장 동물복지 백색유정란 15구',\n",
       "  '우리집 신선 하얀계란(30구/대란)',\n",
       "  '무항생제 목초먹인 신선 영양란 30구',\n",
       "  'SSG 동물복지유정란 20구',\n",
       "  '[1번사육]동물복지 자유방목 무항생제 신선유정란 햇달걀 20입',\n",
       "  'SSG.Fresh',\n",
       "  'SSG.Fresh',\n",
       "  '조인 강남농장 동물복지 백색유정란 20구',\n",
       "  '풀무원',\n",
       "  '유황먹인 무항생제 달걀 25구(1300g)',\n",
       "  '하림',\n",
       "  '동물복지 유정 청란 10개입',\n",
       "  '바로먹는 삶은메추리알(10알)',\n",
       "  '풀무원',\n",
       "  '1+등급 신선한란 15알(특란)',\n",
       "  'SSG FOOD MARKET',\n",
       "  'SSG.Fresh',\n",
       "  '조인 누테이블 갈색 구운란 30구',\n",
       "  '[1번사육]동물복지 자유방목 무항생제  신선유정란 10입',\n",
       "  '지리산 산골 어린닭이 낳은 신선햇달걀 20입',\n",
       "  '동물복지 산골 유정란 25입',\n",
       "  '[하림]무항생제 영양란 25개입(1,300g)',\n",
       "  'SSG.Fresh',\n",
       "  'SSG.Fresh',\n",
       "  '오골계 유정란10구',\n",
       "  '동물복지 산골 유정란 햇달걀 20입',\n",
       "  'SSG.Fresh',\n",
       "  '조인 누테이블 백색 반숙란 20구',\n",
       "  '[1번사육]지리산 산골 1등급 111 동물복지 자유방목 신선유정란 10입',\n",
       "  'SSG FOOD MARKET',\n",
       "  '산골 목초먹인 신선계란 30입',\n",
       "  'SSG FOOD MARKET',\n",
       "  '상하농원 순갈색 동물복지 유정란 10개입 (520g)',\n",
       "  'SSG FOOD MARKET',\n",
       "  '[2번사육]유기농 유정란 6구(312g)',\n",
       "  'SSG.Fresh',\n",
       "  'SSG FOOD MARKET',\n",
       "  '신선한 계란 30개입 (특란, 1800g)',\n",
       "  '파머스픽 1등급란 의성마늘계란 25입/대란',\n",
       "  '풀무원',\n",
       "  '풀무원',\n",
       "  '조인 순수백색 신선햇달걀 10구',\n",
       "  '★올가닉 계란 상품 모음★',\n",
       "  '[올가닉] 계란 할인행사 (햇달걀/유정란/영양란 등)',\n",
       "  '건강하게 키웠습니다. 무항생제/동물복지 계란',\n",
       "  '무항생제 동물복지 계란 할인행사 (영양란/유정란/햇달걀 등)'],\n",
       " 'price': ['6,280',\n",
       "  '8,780',\n",
       "  '6,980',\n",
       "  '4,280',\n",
       "  '8,480',\n",
       "  '6,480',\n",
       "  '8,980',\n",
       "  '7,980',\n",
       "  '6,280',\n",
       "  '6,480',\n",
       "  '14,800',\n",
       "  '7,480',\n",
       "  '6,280',\n",
       "  '8,480',\n",
       "  '6,280',\n",
       "  '3,480',\n",
       "  '11,800',\n",
       "  '9,680',\n",
       "  '6,280',\n",
       "  '6,480',\n",
       "  '4,980',\n",
       "  '8,980',\n",
       "  '6,280',\n",
       "  '9,786',\n",
       "  '7,984',\n",
       "  '6,480',\n",
       "  '10,384',\n",
       "  '6,980',\n",
       "  '8,680',\n",
       "  '3,980',\n",
       "  '6,780',\n",
       "  '6,480',\n",
       "  '6,280',\n",
       "  '7,980',\n",
       "  '6,732',\n",
       "  '9,980',\n",
       "  '11,186',\n",
       "  '8,800',\n",
       "  '12,784',\n",
       "  '5,980',\n",
       "  '8,480',\n",
       "  '8,982',\n",
       "  '9,980',\n",
       "  '9,584',\n",
       "  '5,980',\n",
       "  '7,380',\n",
       "  '1,380',\n",
       "  '9,980',\n",
       "  '5,980',\n",
       "  '7,980',\n",
       "  '8,480',\n",
       "  '11,980',\n",
       "  '6,980',\n",
       "  '7,184',\n",
       "  '11,800',\n",
       "  '10,784',\n",
       "  '9,980',\n",
       "  '3,980',\n",
       "  '7,380',\n",
       "  '8,480',\n",
       "  '5,980',\n",
       "  '10,980',\n",
       "  '6,980',\n",
       "  '9,980',\n",
       "  '9,480',\n",
       "  '7,980',\n",
       "  '6,800',\n",
       "  '7,480',\n",
       "  '5,480',\n",
       "  '4,480',\n",
       "  '5,480',\n",
       "  '6,880',\n",
       "  '8,480',\n",
       "  '9,980',\n",
       "  '8,980',\n",
       "  '3,280',\n",
       "  '9,786',\n",
       "  '7,984',\n",
       "  '9,786',\n",
       "  '12,784']}"
      ]
     },
     "execution_count": 162,
     "metadata": {},
     "output_type": "execute_result"
    }
   ],
   "source": [
    "egg_data = {\n",
    "    \"name\":[],\n",
    "    \"price\":[]\n",
    "}\n",
    "for i in litag:\n",
    "    info = i.find(name=\"div\", attrs={\"class\":\"cunit_info\"})\n",
    "    egg_data[\"name\"].append(\n",
    "        info.find(name=\"em\").text\n",
    "    )\n",
    "    egg_data[\"price\"].append(\n",
    "        info.find(name=\"em\", attrs={\"class\":\"ssg_price\"}).text\n",
    "    )\n",
    "egg_data"
   ]
  },
  {
   "cell_type": "code",
   "execution_count": 163,
   "id": "96f72bf7-3726-47bc-8290-0021336655d2",
   "metadata": {},
   "outputs": [
    {
     "data": {
      "text/html": [
       "<div>\n",
       "<style scoped>\n",
       "    .dataframe tbody tr th:only-of-type {\n",
       "        vertical-align: middle;\n",
       "    }\n",
       "\n",
       "    .dataframe tbody tr th {\n",
       "        vertical-align: top;\n",
       "    }\n",
       "\n",
       "    .dataframe thead th {\n",
       "        text-align: right;\n",
       "    }\n",
       "</style>\n",
       "<table border=\"1\" class=\"dataframe\">\n",
       "  <thead>\n",
       "    <tr style=\"text-align: right;\">\n",
       "      <th></th>\n",
       "      <th>상품명</th>\n",
       "      <th>가격</th>\n",
       "    </tr>\n",
       "  </thead>\n",
       "  <tbody>\n",
       "    <tr>\n",
       "      <th>0</th>\n",
       "      <td>난이생생 계란 15개입 (왕란, 1020g)</td>\n",
       "      <td>6,280</td>\n",
       "    </tr>\n",
       "    <tr>\n",
       "      <th>1</th>\n",
       "      <td>파머스픽 가농 1+등급 25개입 특란</td>\n",
       "      <td>8,780</td>\n",
       "    </tr>\n",
       "    <tr>\n",
       "      <th>2</th>\n",
       "      <td>백색란 30개입 대란</td>\n",
       "      <td>6,980</td>\n",
       "    </tr>\n",
       "    <tr>\n",
       "      <th>3</th>\n",
       "      <td>파머스픽 1+ 등급란 10개입 특란</td>\n",
       "      <td>4,280</td>\n",
       "    </tr>\n",
       "    <tr>\n",
       "      <th>4</th>\n",
       "      <td>오늘반찬은 신선한란 30알</td>\n",
       "      <td>8,480</td>\n",
       "    </tr>\n",
       "    <tr>\n",
       "      <th>...</th>\n",
       "      <td>...</td>\n",
       "      <td>...</td>\n",
       "    </tr>\n",
       "    <tr>\n",
       "      <th>75</th>\n",
       "      <td>조인 순수백색 신선햇달걀 10구</td>\n",
       "      <td>3,280</td>\n",
       "    </tr>\n",
       "    <tr>\n",
       "      <th>76</th>\n",
       "      <td>★올가닉 계란 상품 모음★</td>\n",
       "      <td>9,786</td>\n",
       "    </tr>\n",
       "    <tr>\n",
       "      <th>77</th>\n",
       "      <td>[올가닉] 계란 할인행사 (햇달걀/유정란/영양란 등)</td>\n",
       "      <td>7,984</td>\n",
       "    </tr>\n",
       "    <tr>\n",
       "      <th>78</th>\n",
       "      <td>건강하게 키웠습니다. 무항생제/동물복지 계란</td>\n",
       "      <td>9,786</td>\n",
       "    </tr>\n",
       "    <tr>\n",
       "      <th>79</th>\n",
       "      <td>무항생제 동물복지 계란 할인행사 (영양란/유정란/햇달걀 등)</td>\n",
       "      <td>12,784</td>\n",
       "    </tr>\n",
       "  </tbody>\n",
       "</table>\n",
       "<p>80 rows × 2 columns</p>\n",
       "</div>"
      ],
      "text/plain": [
       "                                  상품명      가격\n",
       "0            난이생생 계란 15개입 (왕란, 1020g)   6,280\n",
       "1                파머스픽 가농 1+등급 25개입 특란   8,780\n",
       "2                         백색란 30개입 대란   6,980\n",
       "3                 파머스픽 1+ 등급란 10개입 특란   4,280\n",
       "4                      오늘반찬은 신선한란 30알   8,480\n",
       "..                                ...     ...\n",
       "75                  조인 순수백색 신선햇달걀 10구   3,280\n",
       "76                     ★올가닉 계란 상품 모음★   9,786\n",
       "77      [올가닉] 계란 할인행사 (햇달걀/유정란/영양란 등)   7,984\n",
       "78           건강하게 키웠습니다. 무항생제/동물복지 계란   9,786\n",
       "79  무항생제 동물복지 계란 할인행사 (영양란/유정란/햇달걀 등)  12,784\n",
       "\n",
       "[80 rows x 2 columns]"
      ]
     },
     "execution_count": 163,
     "metadata": {},
     "output_type": "execute_result"
    }
   ],
   "source": [
    "import pandas as pd\n",
    "\n",
    "egg_table = pd.DataFrame(zip(egg_data[\"name\"], egg_data[\"price\"]), columns=[\"상품명\", \"가격\"])\n",
    "egg_table"
   ]
  },
  {
   "cell_type": "code",
   "execution_count": 165,
   "id": "16120725-75dc-448c-b8f2-d66b7a42c287",
   "metadata": {},
   "outputs": [],
   "source": [
    "egg_table.to_csv(\"./egg_data.csv\", mode='w')"
   ]
  },
  {
   "cell_type": "markdown",
   "id": "bac86ee0-0e4f-4c45-ac5d-4e2e0e778916",
   "metadata": {},
   "source": [
    "# 최종"
   ]
  },
  {
   "cell_type": "code",
   "execution_count": 183,
   "id": "658a8253-0f00-4666-9165-d0c0e98074d2",
   "metadata": {},
   "outputs": [],
   "source": [
    "import requests, bs4\n",
    "import pandas as pd\n",
    "\n",
    "def get_egg_data(url, i):\n",
    "    \"\"\"\n",
    "        달걀의 상품 정보를 받아와 csv 파일로 저장하는 함수.\n",
    "    \"\"\"\n",
    "    try:\n",
    "        # 봇 방지를 위해 추가한 코드\n",
    "        user_agent = 'Mozilla/5.0 (Windows NT 10.0; Win64; x64) AppleWebKit/537.36 (KHTML, like Gecko) Chrome/100.0.4896.75 Safari/537.36'\n",
    "        # url을 통해 웹사이트의 정보를 받아온다.\n",
    "        resp = requests.get(url,headers = {'User-Agent':user_agent} )\n",
    "        # 정보를 텍스트 형태로 저장\n",
    "        html = resp.text\n",
    "        # 라이브러리를 통해 깔끔하게 정리\n",
    "        bs = bs4.BeautifulSoup(html, \"html.parser\")\n",
    "\n",
    "        ultag = bs.find(name=\"ul\", attrs={\"id\":\"idProductImg\"})\n",
    "\n",
    "        litag = ultag.findAll(name=\"li\")\n",
    "        # 찾은 데이터 저장을 위한 dic\n",
    "        egg_data = {\n",
    "            \"name\":[],\n",
    "            \"price\":[]\n",
    "        }\n",
    "        # for문으로 dic 안에 데이터를 저장\n",
    "        for i in litag:\n",
    "            info = i.find(name=\"div\", attrs={\"class\":\"cunit_info\"})\n",
    "            egg_data[\"name\"].append(\n",
    "                info.find(name=\"em\").text\n",
    "            )\n",
    "            egg_data[\"price\"].append(\n",
    "                info.find(name=\"em\", attrs={\"class\":\"ssg_price\"}).text\n",
    "            )\n",
    "\n",
    "        # 저장된 데이터를 데이터 프레임으로 변환하여 표를 만든다.\n",
    "        egg_table = pd.DataFrame(zip(egg_data[\"name\"], egg_data[\"price\"]), columns=[\"상품명\", \"가격\"])\n",
    "        # 마지막으로 csv 파일으로 저장한다.\n",
    "        egg_table.to_csv(f\"./egg_data{i}.csv\", mode=\"w\")\n",
    "    except EnvironmentError as e:\n",
    "        print(e)\n",
    "# targetUrl = \"https://www.ssg.com/search.ssg?target=all&query=%EA%B3%84%EB%9E%80\"\n",
    "# get_egg_data(targetUrl)"
   ]
  },
  {
   "cell_type": "code",
   "execution_count": 184,
   "id": "ef213cec-858c-40d5-b3dc-091bc2e8c1fa",
   "metadata": {},
   "outputs": [
    {
     "ename": "OSError",
     "evalue": "Cannot save file into a non-existent directory: 'egg_data<li class=\"cunit_t232\" data-observable-unit=\"false\" data-react-comm-id=\"계란\" data-react-comm-type=\"srchwd\" data-react-salestr-no=\"2034\" data-react-site-no=\"6001\" data-react-srch-rsv-div-cd=\"10\" data-react-tarea-cd=\"00001_000000010\" data-unittype=\"item\" id=\"item_unit_1000354735132\">\n<div class=\"cunit_prod cunit_soldout\" data-observable-item=\"true\" data-react-advert-advert-acct-grp-id=\"\" data-react-advert-bid-id=\"\" data-react-advert-bilng-type-cd=\"\" data-react-advert-extens-tery-div-cd=\"\" data-react-advert-kind-cd=\"\" data-react-advert-tgt-id=\"\" data-react-advert-yn=\"N\" data-react-mdl-info=\"\" data-react-unit-id=\"1000354735132\" data-react-unit-inx=\"79\" data-react-unit-text=\"\" data-react-unit-type=\"item\">\n<div class=\"prod_top\">\n<\\div>\n<div class=\"thmb\">\n<a class=\"clickable\" data-index=\"0\" data-info=\"1000354735132\" data-position=\"view\" data-react-tarea-dtl-cd=\"t00001\" data-unit=\"img\" href=\"\\item\\dealItemView.ssg?itemId=1000354735132&amp;siteNo=6001&amp;salestrNo=2034&amp;tlidSrchWd=계란&amp;srchPgNo=1&amp;src_area=ssglist\" target=\"_self\">\n<img alt=\"무항생제 동물복지 계란 할인행사 (영양란\\유정란\\햇달걀 등)\" class=\"i1\" height=\"232\" loading=\"lazy\" onerror=\"this.onerror=null;this.src='https:\\simg.ssgcdn.com\\trans.ssg?src=\\ui\\ssg\\img\\common\\img_ready_500x500.jpg&amp;w=232&amp;h=232&amp;t=9ba4c0524addb9b9ec561d5523b3baf3f90ae796'\" src=\"\\sitem.ssgcdn.com\\32\\51\\73\\item\\1000354735132_i1_232.jpg\" width=\"232\"\\>\n<div aria-label=\"배송방법\" class=\"deiv_bdg notranslate\">\n<span class=\"ssgdeliv\"><span class=\"blind\">쓱-배송<\\span><\\span>\n<\\div>\n<\\a>\n<div class=\"soldout_area\">\n<div class=\"soldout_tx\"><span>일시품절<\\span>\n<\\div>\n<\\div>\n<div class=\"exp_area notranslate\">\n<div class=\"util_bx\"> <a class=\"blank clickable\" data-index=\"0\" data-info=\"1000354735132\" data-position=\"pop\" data-unit=\"img\" href=\"\\item\\dealItemView.ssg?itemId=1000354735132&amp;siteNo=6001&amp;salestrNo=2034&amp;tlidSrchWd=계란&amp;srchPgNo=1&amp;src_area=ssglist\" target=\"_blank\"><span class=\"blind\">새창보기<\\span><\\a>\n<a class=\"cart clickable\" data-idx=\"0\" data-info=\"1000354735132\" data-position=\"cart\" data-react-tarea-dtl-cd=\"t00002\" data-unit=\"img\" href=\"javascript:void(0)\" onclick=\"frontCommCart.put(this, '');\" role=\"button\"><span class=\"blind\">장바구니<\\span><\\a>\n<span class=\"disp_cart_data\" data-cart-inflo-site-no=\"6005\" data-cart-ordqty=\"1\" data-cart-type=\"10\" style=\"display:none\">{\"advertBidId\":\"\",\"giftBtnShowType\":\"\",\"giftBtnActType\":\"N\",\"itemChrctDivCd\":\"10\",\"itemLnkd\":\"\\item\\dealItemView.ssg?itemId=1000354735132&amp;siteNo=6001&amp;salestrNo=2034&amp;tlidSrchWd=계란&amp;srchPgNo=1&amp;src_area=ssglist\",\"giftBtnMsg\":\"선물하기 불가 상품 입니다.\",\"bothSsgMorningShppYn\":\"N\",\"goItemDetailYn\":\"Y\",\"drctPurchYn\":\"N\",\"itemId\":\"1000354735132\",\"dealItemYn\":\"Y\",\"advertExtensTeryDivCd\":\"\",\"cleaningLabYn\":\"N\",\"siteNo\":\"6001\",\"useForcedSsg\":\"N\",\"cartPsblType\":\"\",\"uitemId\":\"00000\",\"infloSiteNo\":\"6005\",\"salestrNo\":\"2034\",\"msgItemDetail\":\"이 상품은 옵션이 있는 상품 입니다.\\n상품상세에서 옵션을 선택해주세요.\"}<\\span>\n<span class=\"cmlike _js_cmlike interestIt\">\n<input name=\"attnDivCd\" type=\"hidden\" value=\"10\"\\>\n<input name=\"attnDivDtlCd\" type=\"hidden\" value=\"10\"\\>\n<input name=\"siteNo\" type=\"hidden\" value=\"6001\"\\>\n<input name=\"attnTgtIdnfNo1\" type=\"hidden\" value=\"1000354735132\"\\>\n<input name=\"attnTgtIdnfNo2\" type=\"hidden\" value=\"2034\"\\>\n<input name=\"uitemId\" type=\"hidden\" value=\"00000\"\\>\n<input name=\"notiTitle\" type=\"hidden\" value=\"무항생제 동물복지 계란 할인행사 (영양란\\유정란\\햇달걀 등)\"\\>\n<input name=\"notiImgPath\" type=\"hidden\" value=\"\\sitem.ssgcdn.com\\32\\51\\73\\item\\1000354735132_i1_232.jpg\"\\>\n<input name=\"checked\" type=\"hidden\" value=\"N\"\\>\n<input name=\"useForcedSsgYn\" type=\"hidden\" value=\"N\"\\>\n<button class=\"cmlike_btn _js_cmlike_btn clickable\" data-position=\"clip\" data-react-tarea-dtl-cd=\"t00003\">\n<span class=\"cmlike_ico\">\n<i class=\"cmlike_primary_s\"><\\i>\n<span class=\"sr_off\"><span class=\"blind\">관심상품 취소<\\span><\\span>\n<span class=\"sr_on\"><span class=\"blind\">관심상품 등록<\\span><\\span>\n<\\span>\n<\\button>\n<\\span>\n<\\div>\n<\\div>\n<\\div>\n<\\div><div class=\"cunit_info\">\n<div class=\"cunit_tp\">\n<span class=\"cm_mall_ic ty_rect_s notranslate\">\n<i class=\"em\"><span class=\"blind\">이마트몰<\\span><\\i>\n<!-- ssg 푸드마켓  -->\n<\\span>\n<div class=\"dp_dv\">\n<!-- 신선보장 -->\n<!-- SSG설치 -->\n<!-- 오픈마켓  -->\n<\\div>\n<\\div>\n<div class=\"cunit_md notranslate\">\n<div class=\"title\">\n<a class=\"clickable\" data-index=\"0\" data-info=\"1000354735132\" data-position=\"view\" data-unit=\"img\" href=\"\\item\\dealItemView.ssg?itemId=1000354735132&amp;siteNo=6001&amp;salestrNo=2034&amp;tlidSrchWd=계란&amp;srchPgNo=1&amp;src_area=ssglist\" target=\"_self\">\n<em class=\"tx_ko\">무항생제 동물복지 계란 할인행사 (영양란\\유정란\\햇달걀 등)<\\em>\n<em class=\"tx_en\">무항생제 동물복지 계란 할인행사 (영양란\\유정란\\햇달걀 등)<\\em>\n<em class=\"tx_zh\">무항생제 동물복지 계란 할인행사 (영양란\\유정란\\햇달걀 등)<\\em>\n<\\a>\n<\\div>\n<\\div>\n<div class=\"cunit_price\">\n<div class=\"opt_price\">\n<span class=\"blind\">할인적용가<\\span>\n<em class=\"ssg_price\">12,784<\\em>\n<span class=\"ssg_tx\">원<span class=\"cm_tx_opt\">~<\\span><\\span>\n<div class=\"ssg_price_ko show_gl hide_ko\">(￦12,784)<\\div>\n<\\div>\n<\\div>\n<div class=\"cunit_app\">\n<div class=\"rating\">\n<div class=\"rate_bg\">\n<span style=\"width:96.0%\"><span class=\"blind\">별점 4.82점<\\span><\\span>\n<\\div>\n<span class=\"rate_tx\">(<em>112,516<\\em>개)<\\span>\n<\\div>\n<\\div>\n<div class=\"cunit_bene\">\n<div class=\"spt_deiv\">\n<\\div>\n<div class=\"cunit_badge_mmbrs\">\n<span class=\"cmbadge_mmbrs ty_text ty_m\">\n<i class=\"badge badge_mmbrs_brown ty_xs\">\n<span class=\"blind\">스마일클럽<\\span>\n<\\i>\n<span class=\"cm_smileclub_text\">최대 639원 적립<\\span>\n<\\span>\n<\\div>\n<\\div>\n<\\div>\n<'",
     "output_type": "error",
     "traceback": [
      "\u001b[1;31m---------------------------------------------------------------------------\u001b[0m",
      "\u001b[1;31mOSError\u001b[0m                                   Traceback (most recent call last)",
      "Cell \u001b[1;32mIn[184], line 3\u001b[0m\n\u001b[0;32m      1\u001b[0m \u001b[38;5;28;01mfor\u001b[39;00m i \u001b[38;5;129;01min\u001b[39;00m \u001b[38;5;28mrange\u001b[39m(\u001b[38;5;241m1\u001b[39m, \u001b[38;5;241m10\u001b[39m):\n\u001b[0;32m      2\u001b[0m     targetUrl \u001b[38;5;241m=\u001b[39m \u001b[38;5;124mf\u001b[39m\u001b[38;5;124m\"\u001b[39m\u001b[38;5;124mhttps://www.ssg.com/search.ssg?target=all&query=%EA%B3%84%EB%9E%80&page=\u001b[39m\u001b[38;5;132;01m{\u001b[39;00mi\u001b[38;5;132;01m}\u001b[39;00m\u001b[38;5;124m\"\u001b[39m\n\u001b[1;32m----> 3\u001b[0m     \u001b[43mget_egg_data\u001b[49m\u001b[43m(\u001b[49m\u001b[43mtargetUrl\u001b[49m\u001b[43m,\u001b[49m\u001b[43m \u001b[49m\u001b[43mi\u001b[49m\u001b[43m)\u001b[49m\n",
      "Cell \u001b[1;32mIn[183], line 38\u001b[0m, in \u001b[0;36mget_egg_data\u001b[1;34m(url, i)\u001b[0m\n\u001b[0;32m     36\u001b[0m egg_table \u001b[38;5;241m=\u001b[39m pd\u001b[38;5;241m.\u001b[39mDataFrame(\u001b[38;5;28mzip\u001b[39m(egg_data[\u001b[38;5;124m\"\u001b[39m\u001b[38;5;124mname\u001b[39m\u001b[38;5;124m\"\u001b[39m], egg_data[\u001b[38;5;124m\"\u001b[39m\u001b[38;5;124mprice\u001b[39m\u001b[38;5;124m\"\u001b[39m]), columns\u001b[38;5;241m=\u001b[39m[\u001b[38;5;124m\"\u001b[39m\u001b[38;5;124m상품명\u001b[39m\u001b[38;5;124m\"\u001b[39m, \u001b[38;5;124m\"\u001b[39m\u001b[38;5;124m가격\u001b[39m\u001b[38;5;124m\"\u001b[39m])\n\u001b[0;32m     37\u001b[0m \u001b[38;5;66;03m# 마지막으로 csv 파일으로 저장한다.\u001b[39;00m\n\u001b[1;32m---> 38\u001b[0m \u001b[43megg_table\u001b[49m\u001b[38;5;241;43m.\u001b[39;49m\u001b[43mto_csv\u001b[49m\u001b[43m(\u001b[49m\u001b[38;5;124;43mf\u001b[39;49m\u001b[38;5;124;43m\"\u001b[39;49m\u001b[38;5;124;43m./egg_data\u001b[39;49m\u001b[38;5;132;43;01m{\u001b[39;49;00m\u001b[43mi\u001b[49m\u001b[38;5;132;43;01m}\u001b[39;49;00m\u001b[38;5;124;43m.csv\u001b[39;49m\u001b[38;5;124;43m\"\u001b[39;49m\u001b[43m,\u001b[49m\u001b[43m \u001b[49m\u001b[43mmode\u001b[49m\u001b[38;5;241;43m=\u001b[39;49m\u001b[38;5;124;43m\"\u001b[39;49m\u001b[38;5;124;43mw\u001b[39;49m\u001b[38;5;124;43m\"\u001b[39;49m\u001b[43m)\u001b[49m\n",
      "File \u001b[1;32m~\\anaconda3\\lib\\site-packages\\pandas\\core\\generic.py:3551\u001b[0m, in \u001b[0;36mNDFrame.to_csv\u001b[1;34m(self, path_or_buf, sep, na_rep, float_format, columns, header, index, index_label, mode, encoding, compression, quoting, quotechar, line_terminator, chunksize, date_format, doublequote, escapechar, decimal, errors, storage_options)\u001b[0m\n\u001b[0;32m   3540\u001b[0m df \u001b[38;5;241m=\u001b[39m \u001b[38;5;28mself\u001b[39m \u001b[38;5;28;01mif\u001b[39;00m \u001b[38;5;28misinstance\u001b[39m(\u001b[38;5;28mself\u001b[39m, ABCDataFrame) \u001b[38;5;28;01melse\u001b[39;00m \u001b[38;5;28mself\u001b[39m\u001b[38;5;241m.\u001b[39mto_frame()\n\u001b[0;32m   3542\u001b[0m formatter \u001b[38;5;241m=\u001b[39m DataFrameFormatter(\n\u001b[0;32m   3543\u001b[0m     frame\u001b[38;5;241m=\u001b[39mdf,\n\u001b[0;32m   3544\u001b[0m     header\u001b[38;5;241m=\u001b[39mheader,\n\u001b[1;32m   (...)\u001b[0m\n\u001b[0;32m   3548\u001b[0m     decimal\u001b[38;5;241m=\u001b[39mdecimal,\n\u001b[0;32m   3549\u001b[0m )\n\u001b[1;32m-> 3551\u001b[0m \u001b[38;5;28;01mreturn\u001b[39;00m \u001b[43mDataFrameRenderer\u001b[49m\u001b[43m(\u001b[49m\u001b[43mformatter\u001b[49m\u001b[43m)\u001b[49m\u001b[38;5;241;43m.\u001b[39;49m\u001b[43mto_csv\u001b[49m\u001b[43m(\u001b[49m\n\u001b[0;32m   3552\u001b[0m \u001b[43m    \u001b[49m\u001b[43mpath_or_buf\u001b[49m\u001b[43m,\u001b[49m\n\u001b[0;32m   3553\u001b[0m \u001b[43m    \u001b[49m\u001b[43mline_terminator\u001b[49m\u001b[38;5;241;43m=\u001b[39;49m\u001b[43mline_terminator\u001b[49m\u001b[43m,\u001b[49m\n\u001b[0;32m   3554\u001b[0m \u001b[43m    \u001b[49m\u001b[43msep\u001b[49m\u001b[38;5;241;43m=\u001b[39;49m\u001b[43msep\u001b[49m\u001b[43m,\u001b[49m\n\u001b[0;32m   3555\u001b[0m \u001b[43m    \u001b[49m\u001b[43mencoding\u001b[49m\u001b[38;5;241;43m=\u001b[39;49m\u001b[43mencoding\u001b[49m\u001b[43m,\u001b[49m\n\u001b[0;32m   3556\u001b[0m \u001b[43m    \u001b[49m\u001b[43merrors\u001b[49m\u001b[38;5;241;43m=\u001b[39;49m\u001b[43merrors\u001b[49m\u001b[43m,\u001b[49m\n\u001b[0;32m   3557\u001b[0m \u001b[43m    \u001b[49m\u001b[43mcompression\u001b[49m\u001b[38;5;241;43m=\u001b[39;49m\u001b[43mcompression\u001b[49m\u001b[43m,\u001b[49m\n\u001b[0;32m   3558\u001b[0m \u001b[43m    \u001b[49m\u001b[43mquoting\u001b[49m\u001b[38;5;241;43m=\u001b[39;49m\u001b[43mquoting\u001b[49m\u001b[43m,\u001b[49m\n\u001b[0;32m   3559\u001b[0m \u001b[43m    \u001b[49m\u001b[43mcolumns\u001b[49m\u001b[38;5;241;43m=\u001b[39;49m\u001b[43mcolumns\u001b[49m\u001b[43m,\u001b[49m\n\u001b[0;32m   3560\u001b[0m \u001b[43m    \u001b[49m\u001b[43mindex_label\u001b[49m\u001b[38;5;241;43m=\u001b[39;49m\u001b[43mindex_label\u001b[49m\u001b[43m,\u001b[49m\n\u001b[0;32m   3561\u001b[0m \u001b[43m    \u001b[49m\u001b[43mmode\u001b[49m\u001b[38;5;241;43m=\u001b[39;49m\u001b[43mmode\u001b[49m\u001b[43m,\u001b[49m\n\u001b[0;32m   3562\u001b[0m \u001b[43m    \u001b[49m\u001b[43mchunksize\u001b[49m\u001b[38;5;241;43m=\u001b[39;49m\u001b[43mchunksize\u001b[49m\u001b[43m,\u001b[49m\n\u001b[0;32m   3563\u001b[0m \u001b[43m    \u001b[49m\u001b[43mquotechar\u001b[49m\u001b[38;5;241;43m=\u001b[39;49m\u001b[43mquotechar\u001b[49m\u001b[43m,\u001b[49m\n\u001b[0;32m   3564\u001b[0m \u001b[43m    \u001b[49m\u001b[43mdate_format\u001b[49m\u001b[38;5;241;43m=\u001b[39;49m\u001b[43mdate_format\u001b[49m\u001b[43m,\u001b[49m\n\u001b[0;32m   3565\u001b[0m \u001b[43m    \u001b[49m\u001b[43mdoublequote\u001b[49m\u001b[38;5;241;43m=\u001b[39;49m\u001b[43mdoublequote\u001b[49m\u001b[43m,\u001b[49m\n\u001b[0;32m   3566\u001b[0m \u001b[43m    \u001b[49m\u001b[43mescapechar\u001b[49m\u001b[38;5;241;43m=\u001b[39;49m\u001b[43mescapechar\u001b[49m\u001b[43m,\u001b[49m\n\u001b[0;32m   3567\u001b[0m \u001b[43m    \u001b[49m\u001b[43mstorage_options\u001b[49m\u001b[38;5;241;43m=\u001b[39;49m\u001b[43mstorage_options\u001b[49m\u001b[43m,\u001b[49m\n\u001b[0;32m   3568\u001b[0m \u001b[43m\u001b[49m\u001b[43m)\u001b[49m\n",
      "File \u001b[1;32m~\\anaconda3\\lib\\site-packages\\pandas\\io\\formats\\format.py:1180\u001b[0m, in \u001b[0;36mDataFrameRenderer.to_csv\u001b[1;34m(self, path_or_buf, encoding, sep, columns, index_label, mode, compression, quoting, quotechar, line_terminator, chunksize, date_format, doublequote, escapechar, errors, storage_options)\u001b[0m\n\u001b[0;32m   1159\u001b[0m     created_buffer \u001b[38;5;241m=\u001b[39m \u001b[38;5;28;01mFalse\u001b[39;00m\n\u001b[0;32m   1161\u001b[0m csv_formatter \u001b[38;5;241m=\u001b[39m CSVFormatter(\n\u001b[0;32m   1162\u001b[0m     path_or_buf\u001b[38;5;241m=\u001b[39mpath_or_buf,\n\u001b[0;32m   1163\u001b[0m     line_terminator\u001b[38;5;241m=\u001b[39mline_terminator,\n\u001b[1;32m   (...)\u001b[0m\n\u001b[0;32m   1178\u001b[0m     formatter\u001b[38;5;241m=\u001b[39m\u001b[38;5;28mself\u001b[39m\u001b[38;5;241m.\u001b[39mfmt,\n\u001b[0;32m   1179\u001b[0m )\n\u001b[1;32m-> 1180\u001b[0m \u001b[43mcsv_formatter\u001b[49m\u001b[38;5;241;43m.\u001b[39;49m\u001b[43msave\u001b[49m\u001b[43m(\u001b[49m\u001b[43m)\u001b[49m\n\u001b[0;32m   1182\u001b[0m \u001b[38;5;28;01mif\u001b[39;00m created_buffer:\n\u001b[0;32m   1183\u001b[0m     \u001b[38;5;28;01massert\u001b[39;00m \u001b[38;5;28misinstance\u001b[39m(path_or_buf, StringIO)\n",
      "File \u001b[1;32m~\\anaconda3\\lib\\site-packages\\pandas\\io\\formats\\csvs.py:241\u001b[0m, in \u001b[0;36mCSVFormatter.save\u001b[1;34m(self)\u001b[0m\n\u001b[0;32m    237\u001b[0m \u001b[38;5;124;03m\"\"\"\u001b[39;00m\n\u001b[0;32m    238\u001b[0m \u001b[38;5;124;03mCreate the writer & save.\u001b[39;00m\n\u001b[0;32m    239\u001b[0m \u001b[38;5;124;03m\"\"\"\u001b[39;00m\n\u001b[0;32m    240\u001b[0m \u001b[38;5;66;03m# apply compression and byte/text conversion\u001b[39;00m\n\u001b[1;32m--> 241\u001b[0m \u001b[38;5;28;01mwith\u001b[39;00m \u001b[43mget_handle\u001b[49m\u001b[43m(\u001b[49m\n\u001b[0;32m    242\u001b[0m \u001b[43m    \u001b[49m\u001b[38;5;28;43mself\u001b[39;49m\u001b[38;5;241;43m.\u001b[39;49m\u001b[43mfilepath_or_buffer\u001b[49m\u001b[43m,\u001b[49m\n\u001b[0;32m    243\u001b[0m \u001b[43m    \u001b[49m\u001b[38;5;28;43mself\u001b[39;49m\u001b[38;5;241;43m.\u001b[39;49m\u001b[43mmode\u001b[49m\u001b[43m,\u001b[49m\n\u001b[0;32m    244\u001b[0m \u001b[43m    \u001b[49m\u001b[43mencoding\u001b[49m\u001b[38;5;241;43m=\u001b[39;49m\u001b[38;5;28;43mself\u001b[39;49m\u001b[38;5;241;43m.\u001b[39;49m\u001b[43mencoding\u001b[49m\u001b[43m,\u001b[49m\n\u001b[0;32m    245\u001b[0m \u001b[43m    \u001b[49m\u001b[43merrors\u001b[49m\u001b[38;5;241;43m=\u001b[39;49m\u001b[38;5;28;43mself\u001b[39;49m\u001b[38;5;241;43m.\u001b[39;49m\u001b[43merrors\u001b[49m\u001b[43m,\u001b[49m\n\u001b[0;32m    246\u001b[0m \u001b[43m    \u001b[49m\u001b[43mcompression\u001b[49m\u001b[38;5;241;43m=\u001b[39;49m\u001b[38;5;28;43mself\u001b[39;49m\u001b[38;5;241;43m.\u001b[39;49m\u001b[43mcompression\u001b[49m\u001b[43m,\u001b[49m\n\u001b[0;32m    247\u001b[0m \u001b[43m    \u001b[49m\u001b[43mstorage_options\u001b[49m\u001b[38;5;241;43m=\u001b[39;49m\u001b[38;5;28;43mself\u001b[39;49m\u001b[38;5;241;43m.\u001b[39;49m\u001b[43mstorage_options\u001b[49m\u001b[43m,\u001b[49m\n\u001b[0;32m    248\u001b[0m \u001b[43m\u001b[49m\u001b[43m)\u001b[49m \u001b[38;5;28;01mas\u001b[39;00m handles:\n\u001b[0;32m    249\u001b[0m \n\u001b[0;32m    250\u001b[0m     \u001b[38;5;66;03m# Note: self.encoding is irrelevant here\u001b[39;00m\n\u001b[0;32m    251\u001b[0m     \u001b[38;5;28mself\u001b[39m\u001b[38;5;241m.\u001b[39mwriter \u001b[38;5;241m=\u001b[39m csvlib\u001b[38;5;241m.\u001b[39mwriter(\n\u001b[0;32m    252\u001b[0m         handles\u001b[38;5;241m.\u001b[39mhandle,\n\u001b[0;32m    253\u001b[0m         lineterminator\u001b[38;5;241m=\u001b[39m\u001b[38;5;28mself\u001b[39m\u001b[38;5;241m.\u001b[39mline_terminator,\n\u001b[1;32m   (...)\u001b[0m\n\u001b[0;32m    258\u001b[0m         quotechar\u001b[38;5;241m=\u001b[39m\u001b[38;5;28mself\u001b[39m\u001b[38;5;241m.\u001b[39mquotechar,\n\u001b[0;32m    259\u001b[0m     )\n\u001b[0;32m    261\u001b[0m     \u001b[38;5;28mself\u001b[39m\u001b[38;5;241m.\u001b[39m_save()\n",
      "File \u001b[1;32m~\\anaconda3\\lib\\site-packages\\pandas\\io\\common.py:694\u001b[0m, in \u001b[0;36mget_handle\u001b[1;34m(path_or_buf, mode, encoding, compression, memory_map, is_text, errors, storage_options)\u001b[0m\n\u001b[0;32m    692\u001b[0m \u001b[38;5;66;03m# Only for write methods\u001b[39;00m\n\u001b[0;32m    693\u001b[0m \u001b[38;5;28;01mif\u001b[39;00m \u001b[38;5;124m\"\u001b[39m\u001b[38;5;124mr\u001b[39m\u001b[38;5;124m\"\u001b[39m \u001b[38;5;129;01mnot\u001b[39;00m \u001b[38;5;129;01min\u001b[39;00m mode \u001b[38;5;129;01mand\u001b[39;00m is_path:\n\u001b[1;32m--> 694\u001b[0m     \u001b[43mcheck_parent_directory\u001b[49m\u001b[43m(\u001b[49m\u001b[38;5;28;43mstr\u001b[39;49m\u001b[43m(\u001b[49m\u001b[43mhandle\u001b[49m\u001b[43m)\u001b[49m\u001b[43m)\u001b[49m\n\u001b[0;32m    696\u001b[0m \u001b[38;5;28;01mif\u001b[39;00m compression:\n\u001b[0;32m    697\u001b[0m     \u001b[38;5;28;01mif\u001b[39;00m compression \u001b[38;5;241m!=\u001b[39m \u001b[38;5;124m\"\u001b[39m\u001b[38;5;124mzstd\u001b[39m\u001b[38;5;124m\"\u001b[39m:\n\u001b[0;32m    698\u001b[0m         \u001b[38;5;66;03m# compression libraries do not like an explicit text-mode\u001b[39;00m\n",
      "File \u001b[1;32m~\\anaconda3\\lib\\site-packages\\pandas\\io\\common.py:568\u001b[0m, in \u001b[0;36mcheck_parent_directory\u001b[1;34m(path)\u001b[0m\n\u001b[0;32m    566\u001b[0m parent \u001b[38;5;241m=\u001b[39m Path(path)\u001b[38;5;241m.\u001b[39mparent\n\u001b[0;32m    567\u001b[0m \u001b[38;5;28;01mif\u001b[39;00m \u001b[38;5;129;01mnot\u001b[39;00m parent\u001b[38;5;241m.\u001b[39mis_dir():\n\u001b[1;32m--> 568\u001b[0m     \u001b[38;5;28;01mraise\u001b[39;00m \u001b[38;5;167;01mOSError\u001b[39;00m(\u001b[38;5;124mrf\u001b[39m\u001b[38;5;124m\"\u001b[39m\u001b[38;5;124mCannot save file into a non-existent directory: \u001b[39m\u001b[38;5;124m'\u001b[39m\u001b[38;5;132;01m{\u001b[39;00mparent\u001b[38;5;132;01m}\u001b[39;00m\u001b[38;5;124m'\u001b[39m\u001b[38;5;124m\"\u001b[39m)\n",
      "\u001b[1;31mOSError\u001b[0m: Cannot save file into a non-existent directory: 'egg_data<li class=\"cunit_t232\" data-observable-unit=\"false\" data-react-comm-id=\"계란\" data-react-comm-type=\"srchwd\" data-react-salestr-no=\"2034\" data-react-site-no=\"6001\" data-react-srch-rsv-div-cd=\"10\" data-react-tarea-cd=\"00001_000000010\" data-unittype=\"item\" id=\"item_unit_1000354735132\">\n<div class=\"cunit_prod cunit_soldout\" data-observable-item=\"true\" data-react-advert-advert-acct-grp-id=\"\" data-react-advert-bid-id=\"\" data-react-advert-bilng-type-cd=\"\" data-react-advert-extens-tery-div-cd=\"\" data-react-advert-kind-cd=\"\" data-react-advert-tgt-id=\"\" data-react-advert-yn=\"N\" data-react-mdl-info=\"\" data-react-unit-id=\"1000354735132\" data-react-unit-inx=\"79\" data-react-unit-text=\"\" data-react-unit-type=\"item\">\n<div class=\"prod_top\">\n<\\div>\n<div class=\"thmb\">\n<a class=\"clickable\" data-index=\"0\" data-info=\"1000354735132\" data-position=\"view\" data-react-tarea-dtl-cd=\"t00001\" data-unit=\"img\" href=\"\\item\\dealItemView.ssg?itemId=1000354735132&amp;siteNo=6001&amp;salestrNo=2034&amp;tlidSrchWd=계란&amp;srchPgNo=1&amp;src_area=ssglist\" target=\"_self\">\n<img alt=\"무항생제 동물복지 계란 할인행사 (영양란\\유정란\\햇달걀 등)\" class=\"i1\" height=\"232\" loading=\"lazy\" onerror=\"this.onerror=null;this.src='https:\\simg.ssgcdn.com\\trans.ssg?src=\\ui\\ssg\\img\\common\\img_ready_500x500.jpg&amp;w=232&amp;h=232&amp;t=9ba4c0524addb9b9ec561d5523b3baf3f90ae796'\" src=\"\\sitem.ssgcdn.com\\32\\51\\73\\item\\1000354735132_i1_232.jpg\" width=\"232\"\\>\n<div aria-label=\"배송방법\" class=\"deiv_bdg notranslate\">\n<span class=\"ssgdeliv\"><span class=\"blind\">쓱-배송<\\span><\\span>\n<\\div>\n<\\a>\n<div class=\"soldout_area\">\n<div class=\"soldout_tx\"><span>일시품절<\\span>\n<\\div>\n<\\div>\n<div class=\"exp_area notranslate\">\n<div class=\"util_bx\"> <a class=\"blank clickable\" data-index=\"0\" data-info=\"1000354735132\" data-position=\"pop\" data-unit=\"img\" href=\"\\item\\dealItemView.ssg?itemId=1000354735132&amp;siteNo=6001&amp;salestrNo=2034&amp;tlidSrchWd=계란&amp;srchPgNo=1&amp;src_area=ssglist\" target=\"_blank\"><span class=\"blind\">새창보기<\\span><\\a>\n<a class=\"cart clickable\" data-idx=\"0\" data-info=\"1000354735132\" data-position=\"cart\" data-react-tarea-dtl-cd=\"t00002\" data-unit=\"img\" href=\"javascript:void(0)\" onclick=\"frontCommCart.put(this, '');\" role=\"button\"><span class=\"blind\">장바구니<\\span><\\a>\n<span class=\"disp_cart_data\" data-cart-inflo-site-no=\"6005\" data-cart-ordqty=\"1\" data-cart-type=\"10\" style=\"display:none\">{\"advertBidId\":\"\",\"giftBtnShowType\":\"\",\"giftBtnActType\":\"N\",\"itemChrctDivCd\":\"10\",\"itemLnkd\":\"\\item\\dealItemView.ssg?itemId=1000354735132&amp;siteNo=6001&amp;salestrNo=2034&amp;tlidSrchWd=계란&amp;srchPgNo=1&amp;src_area=ssglist\",\"giftBtnMsg\":\"선물하기 불가 상품 입니다.\",\"bothSsgMorningShppYn\":\"N\",\"goItemDetailYn\":\"Y\",\"drctPurchYn\":\"N\",\"itemId\":\"1000354735132\",\"dealItemYn\":\"Y\",\"advertExtensTeryDivCd\":\"\",\"cleaningLabYn\":\"N\",\"siteNo\":\"6001\",\"useForcedSsg\":\"N\",\"cartPsblType\":\"\",\"uitemId\":\"00000\",\"infloSiteNo\":\"6005\",\"salestrNo\":\"2034\",\"msgItemDetail\":\"이 상품은 옵션이 있는 상품 입니다.\\n상품상세에서 옵션을 선택해주세요.\"}<\\span>\n<span class=\"cmlike _js_cmlike interestIt\">\n<input name=\"attnDivCd\" type=\"hidden\" value=\"10\"\\>\n<input name=\"attnDivDtlCd\" type=\"hidden\" value=\"10\"\\>\n<input name=\"siteNo\" type=\"hidden\" value=\"6001\"\\>\n<input name=\"attnTgtIdnfNo1\" type=\"hidden\" value=\"1000354735132\"\\>\n<input name=\"attnTgtIdnfNo2\" type=\"hidden\" value=\"2034\"\\>\n<input name=\"uitemId\" type=\"hidden\" value=\"00000\"\\>\n<input name=\"notiTitle\" type=\"hidden\" value=\"무항생제 동물복지 계란 할인행사 (영양란\\유정란\\햇달걀 등)\"\\>\n<input name=\"notiImgPath\" type=\"hidden\" value=\"\\sitem.ssgcdn.com\\32\\51\\73\\item\\1000354735132_i1_232.jpg\"\\>\n<input name=\"checked\" type=\"hidden\" value=\"N\"\\>\n<input name=\"useForcedSsgYn\" type=\"hidden\" value=\"N\"\\>\n<button class=\"cmlike_btn _js_cmlike_btn clickable\" data-position=\"clip\" data-react-tarea-dtl-cd=\"t00003\">\n<span class=\"cmlike_ico\">\n<i class=\"cmlike_primary_s\"><\\i>\n<span class=\"sr_off\"><span class=\"blind\">관심상품 취소<\\span><\\span>\n<span class=\"sr_on\"><span class=\"blind\">관심상품 등록<\\span><\\span>\n<\\span>\n<\\button>\n<\\span>\n<\\div>\n<\\div>\n<\\div>\n<\\div><div class=\"cunit_info\">\n<div class=\"cunit_tp\">\n<span class=\"cm_mall_ic ty_rect_s notranslate\">\n<i class=\"em\"><span class=\"blind\">이마트몰<\\span><\\i>\n<!-- ssg 푸드마켓  -->\n<\\span>\n<div class=\"dp_dv\">\n<!-- 신선보장 -->\n<!-- SSG설치 -->\n<!-- 오픈마켓  -->\n<\\div>\n<\\div>\n<div class=\"cunit_md notranslate\">\n<div class=\"title\">\n<a class=\"clickable\" data-index=\"0\" data-info=\"1000354735132\" data-position=\"view\" data-unit=\"img\" href=\"\\item\\dealItemView.ssg?itemId=1000354735132&amp;siteNo=6001&amp;salestrNo=2034&amp;tlidSrchWd=계란&amp;srchPgNo=1&amp;src_area=ssglist\" target=\"_self\">\n<em class=\"tx_ko\">무항생제 동물복지 계란 할인행사 (영양란\\유정란\\햇달걀 등)<\\em>\n<em class=\"tx_en\">무항생제 동물복지 계란 할인행사 (영양란\\유정란\\햇달걀 등)<\\em>\n<em class=\"tx_zh\">무항생제 동물복지 계란 할인행사 (영양란\\유정란\\햇달걀 등)<\\em>\n<\\a>\n<\\div>\n<\\div>\n<div class=\"cunit_price\">\n<div class=\"opt_price\">\n<span class=\"blind\">할인적용가<\\span>\n<em class=\"ssg_price\">12,784<\\em>\n<span class=\"ssg_tx\">원<span class=\"cm_tx_opt\">~<\\span><\\span>\n<div class=\"ssg_price_ko show_gl hide_ko\">(￦12,784)<\\div>\n<\\div>\n<\\div>\n<div class=\"cunit_app\">\n<div class=\"rating\">\n<div class=\"rate_bg\">\n<span style=\"width:96.0%\"><span class=\"blind\">별점 4.82점<\\span><\\span>\n<\\div>\n<span class=\"rate_tx\">(<em>112,516<\\em>개)<\\span>\n<\\div>\n<\\div>\n<div class=\"cunit_bene\">\n<div class=\"spt_deiv\">\n<\\div>\n<div class=\"cunit_badge_mmbrs\">\n<span class=\"cmbadge_mmbrs ty_text ty_m\">\n<i class=\"badge badge_mmbrs_brown ty_xs\">\n<span class=\"blind\">스마일클럽<\\span>\n<\\i>\n<span class=\"cm_smileclub_text\">최대 639원 적립<\\span>\n<\\span>\n<\\div>\n<\\div>\n<\\div>\n<'"
     ]
    }
   ],
   "source": [
    "for i in range(1, 10):\n",
    "    targetUrl = f\"https://www.ssg.com/search.ssg?target=all&query=%EA%B3%84%EB%9E%80&page={i}\"\n",
    "    get_egg_data(targetUrl, i)"
   ]
  },
  {
   "cell_type": "code",
   "execution_count": 175,
   "id": "7fcf6cee-a475-47f1-82c6-053dbdf4b659",
   "metadata": {},
   "outputs": [],
   "source": [
    "# \"https://www.ssg.com/search.ssg?target=all&query=%EA%B3%84%EB%9E%80&page=2\" 페이지는 요걸로 하면 될듯~~~\n",
    "# 함수도 바꾸자면 페이지 정보랑 csv 파일 이름을 페이지 인덱스대로 하게 되면 될듯~~~"
   ]
  },
  {
   "cell_type": "code",
   "execution_count": null,
   "id": "3a6bc580-8c8b-4290-b4a0-90098fe68832",
   "metadata": {},
   "outputs": [],
   "source": []
  }
 ],
 "metadata": {
  "kernelspec": {
   "display_name": "Python 3 (ipykernel)",
   "language": "python",
   "name": "python3"
  },
  "language_info": {
   "codemirror_mode": {
    "name": "ipython",
    "version": 3
   },
   "file_extension": ".py",
   "mimetype": "text/x-python",
   "name": "python",
   "nbconvert_exporter": "python",
   "pygments_lexer": "ipython3",
   "version": "3.9.15"
  }
 },
 "nbformat": 4,
 "nbformat_minor": 5
}
