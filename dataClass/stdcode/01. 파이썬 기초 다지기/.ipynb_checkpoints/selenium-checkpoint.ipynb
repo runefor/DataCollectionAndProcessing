{
 "cells": [
  {
   "cell_type": "code",
   "execution_count": 15,
   "id": "eb4bc646-c243-4c24-8c22-eda6ff36161f",
   "metadata": {},
   "outputs": [],
   "source": [
    "from selenium import webdriver\n",
    "from selenium.webdriver.common.by import By\n",
    "from selenium.webdriver.common.keys import Keys\n",
    "import bs4"
   ]
  },
  {
   "cell_type": "code",
   "execution_count": 2,
   "id": "9a9bc2e0-5c11-47e8-a85f-4e670c5f8122",
   "metadata": {},
   "outputs": [
    {
     "name": "stderr",
     "output_type": "stream",
     "text": [
      "C:\\Users\\fkjy1\\AppData\\Local\\Temp\\ipykernel_11892\\1492588057.py:7: DeprecationWarning: executable_path has been deprecated, please pass in a Service object\n",
      "  driver = webdriver.Chrome(driver_loc, options=options)\n"
     ]
    }
   ],
   "source": [
    "driver_loc = \"../extern/chromedriver_win32/chromedriver.exe\"\n",
    "\n",
    "\n",
    "options = webdriver.ChromeOptions();\n",
    "options.add_argument(\"windows-size=1920*1080\")\n",
    "\n",
    "driver = webdriver.Chrome(driver_loc, options=options)\n",
    "driver.implicitly_wait(3)"
   ]
  },
  {
   "cell_type": "code",
   "execution_count": 18,
   "id": "7dadaef2-2bdf-49f3-b76d-259fc512d3fa",
   "metadata": {},
   "outputs": [],
   "source": [
    "targetUrl = \"https://www.google.com/\"\n",
    "# targetUrl = \"https://www.sparkkorea.com/\"\n",
    "\n",
    "quizBtn = '//*[@id=\"menu-item-382\"]/a'\n",
    "\n",
    "googleSerchBar = '/html/body/div[1]/div[3]/form/div[1]/div[1]/div[1]/div/div[2]/input'"
   ]
  },
  {
   "cell_type": "code",
   "execution_count": 4,
   "id": "a174558c-c2ce-4001-9d2d-d92023749bd2",
   "metadata": {},
   "outputs": [],
   "source": [
    "driver.get(targetUrl)"
   ]
  },
  {
   "cell_type": "code",
   "execution_count": 17,
   "id": "d56d306a-79a1-4c4f-b633-4ba0c611dbbb",
   "metadata": {},
   "outputs": [],
   "source": [
    "driver.find_element(By.XPATH, quizBtn).click()"
   ]
  },
  {
   "cell_type": "code",
   "execution_count": 5,
   "id": "846cd7fa-7ae6-4c17-a00c-397dd14f6c23",
   "metadata": {},
   "outputs": [
    {
     "name": "stdout",
     "output_type": "stream",
     "text": [
      "https://sparkkorea.com/\n"
     ]
    }
   ],
   "source": [
    "print( driver.current_url )"
   ]
  },
  {
   "cell_type": "code",
   "execution_count": 6,
   "id": "90d06063-1ed6-469b-a097-30d9f7bf890e",
   "metadata": {},
   "outputs": [],
   "source": [
    "html = driver.page_source"
   ]
  },
  {
   "cell_type": "code",
   "execution_count": 8,
   "id": "5c75f16f-7388-4ff5-93a0-6edd1fe06867",
   "metadata": {},
   "outputs": [],
   "source": [
    "bsobj = bs4.BeautifulSoup(html, \"html.parser\")"
   ]
  },
  {
   "cell_type": "code",
   "execution_count": null,
   "id": "8adc9932-aef3-4c80-8599-bc7408c8800c",
   "metadata": {},
   "outputs": [],
   "source": []
  }
 ],
 "metadata": {
  "kernelspec": {
   "display_name": "Python 3 (ipykernel)",
   "language": "python",
   "name": "python3"
  },
  "language_info": {
   "codemirror_mode": {
    "name": "ipython",
    "version": 3
   },
   "file_extension": ".py",
   "mimetype": "text/x-python",
   "name": "python",
   "nbconvert_exporter": "python",
   "pygments_lexer": "ipython3",
   "version": "3.9.15"
  }
 },
 "nbformat": 4,
 "nbformat_minor": 5
}
