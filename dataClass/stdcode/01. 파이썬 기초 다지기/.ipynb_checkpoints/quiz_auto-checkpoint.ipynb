{
 "cells": [
  {
   "cell_type": "code",
   "execution_count": 7,
   "id": "20eba924-e151-4aa3-ad0b-57f957653af9",
   "metadata": {},
   "outputs": [],
   "source": [
    "# requests 웹에 데이터를 요청하는 라이브러리\n",
    "# bs4 html 이쁘게 가져오는 라이브러리\n",
    "import requests, bs4\n",
    "# 데이터 정리를 위한 pandas\n",
    "import pandas as pd\n",
    "\n",
    "import datetime"
   ]
  },
  {
   "cell_type": "code",
   "execution_count": 8,
   "id": "13c290e0-d534-47db-aa22-a8c0dc502f10",
   "metadata": {},
   "outputs": [],
   "source": [
    "resp = requests.get(\"https://sparkkorea.com/%ed%80%b4%ec%a6%88/\")\n",
    "\n",
    "html = resp.text\n",
    "\n",
    "bs = bs4.BeautifulSoup(html, \"html.parser\")"
   ]
  },
  {
   "cell_type": "code",
   "execution_count": 9,
   "id": "33f57b51-0c9e-4c2c-9bd6-a0a6138b734e",
   "metadata": {},
   "outputs": [
    {
     "name": "stdout",
     "output_type": "stream",
     "text": [
      "[' 6/13 Spark 심화과정 ', ' 6/13 Spark 기본과정 ', ' 6/18 Spark [MAP_FILTER] ', ' 6/18 Spark GroupBy 심화 ', ' 6/25 Spark RDD 실전 분석 ', ' 6/27 Spark RDD 실전 분석2 ']\n"
     ]
    },
    {
     "data": {
      "text/plain": [
       "['https://forms.gle/Fw49w9GhWQChDcZm7',\n",
       " 'https://forms.gle/G4TcXm3fKuHLHA6D6',\n",
       " 'https://forms.gle/M8gr1kC2ubA3UDVp8',\n",
       " 'https://forms.gle/h8w5mZ4MNaPLCPbi6',\n",
       " 'https://forms.gle/q5yL6QHfueDLM5w27',\n",
       " 'https://forms.gle/Gxb4y6LfVYiaLu4M7']"
      ]
     },
     "execution_count": 9,
     "metadata": {},
     "output_type": "execute_result"
    }
   ],
   "source": [
    "quiz = bs.find(name=\"div\", attrs={\"id\":\"id_spark_quiz\"})\n",
    "a_quiz = quiz.findAll(name=\"a\")\n",
    "\n",
    "titleList = []\n",
    "linkList = []\n",
    "\n",
    "for i in a_quiz:\n",
    "    titleList.append(i.text)\n",
    "    linkList.append(i.attrs[\"href\"])\n",
    "print(titleList)\n",
    "linkList"
   ]
  },
  {
   "cell_type": "code",
   "execution_count": 10,
   "id": "be8f49ae-25f5-4cd9-8f4f-52820754dbee",
   "metadata": {},
   "outputs": [],
   "source": [
    "currentDate = datetime.datetime.now()\n",
    "currentDate = currentDate.strftime(\"%Y_%m_%d_%H_%M_%S\")"
   ]
  },
  {
   "cell_type": "code",
   "execution_count": 11,
   "id": "71659e96-eec1-4ee8-acee-8d56cac3d84a",
   "metadata": {},
   "outputs": [],
   "source": [
    "quiz_data = pd.DataFrame(zip(titleList, linkList), columns=[\"제목\", \"링크\"])\n",
    "quiz_data.to_csv(f\"./quizDataIn_{currentDate}.csv\", encoding='utf-8')"
   ]
  }
 ],
 "metadata": {
  "kernelspec": {
   "display_name": "Python 3 (ipykernel)",
   "language": "python",
   "name": "python3"
  },
  "language_info": {
   "codemirror_mode": {
    "name": "ipython",
    "version": 3
   },
   "file_extension": ".py",
   "mimetype": "text/x-python",
   "name": "python",
   "nbconvert_exporter": "python",
   "pygments_lexer": "ipython3",
   "version": "3.9.15"
  }
 },
 "nbformat": 4,
 "nbformat_minor": 5
}
